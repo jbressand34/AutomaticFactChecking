{
 "cells": [
  {
   "cell_type": "code",
   "execution_count": 1,
   "metadata": {},
   "outputs": [],
   "source": [
    "import pandas as pd\n",
    "import matplotlib.pyplot as plt\n",
    "from gensim import corpora\n",
    "import numpy as np\n",
    "import re\n",
    "import os"
   ]
  },
  {
   "cell_type": "code",
   "execution_count": 2,
   "metadata": {},
   "outputs": [],
   "source": [
    "## We import data associated to documents and claims and we merge them\n",
    "\n",
    "df_doc = pd.read_csv('datasets/07_documents.csv')\n",
    "df_claims = pd.read_csv('datasets/06_relevant_snippets.csv')\n",
    "df_merge = pd.merge(df_doc[['snippet_id','document_content']],df_claims[\n",
    "    ['claim_id','snippet_id','snippet_date','claim_content','claim_label','similarity_score']])"
   ]
  },
  {
   "cell_type": "code",
   "execution_count": 13,
   "metadata": {},
   "outputs": [
    {
     "data": {
      "text/plain": [
       "<matplotlib.axes._subplots.AxesSubplot at 0x7fde73a60a20>"
      ]
     },
     "execution_count": 13,
     "metadata": {},
     "output_type": "execute_result"
    },
    {
     "data": {
      "image/png": "[encoded data removed]",
      "text/plain": [
       "<matplotlib.figure.Figure at 0x7fde73ab6f60>"
      ]
     },
     "metadata": {},
     "output_type": "display_data"
    }
   ],
   "source": [
    "## What is the discrepancy between the number of snippets associated to true claims and those \n",
    "## of false claims ?\n",
    "\n",
    "fig, axs = plt.subplots(1,2, sharey = True)\n",
    "df_merge[df_merge['claim_label']==True][['claim_id','snippet_id']].groupby('claim_id').count()[['snippet_id']].boxplot(ax=axs[0])\n",
    "df_merge[df_merge['claim_label']==False][['claim_id','snippet_id']].groupby('claim_id').count()[['snippet_id']].boxplot(ax=axs[1])"
   ]
  },
  {
   "cell_type": "code",
   "execution_count": 18,
   "metadata": {},
   "outputs": [],
   "source": [
    "## We keep only claims with at least 2 associated snippets\n",
    "\n",
    "df_count = df_merge[['claim_id','snippet_id']].groupby('claim_id').count().reset_index()\n",
    "\n",
    "claim_ids_2 = df_count[df_count['snippet_id']>=2][['claim_id']]\n",
    "\n",
    "df_filter = pd.merge(df_merge, claim_ids_2)"
   ]
  },
  {
   "cell_type": "code",
   "execution_count": 19,
   "metadata": {},
   "outputs": [
    {
     "data": {
      "image/png": "[encoded data removed]",
      "text/plain": [
       "<matplotlib.figure.Figure at 0x7fde73880cf8>"
      ]
     },
     "metadata": {},
     "output_type": "display_data"
    }
   ],
   "source": [
    "## How many true and false claims ?\n",
    "\n",
    "ax = df_filter[['claim_id','claim_label']].groupby('claim_id').first().reset_index()['claim_label'].value_counts().plot(kind='bar')\n",
    "for p in ax.patches:\n",
    "    ax.annotate(str(int(p.get_height()*1000)/1000), (p.get_x() +0.1, p.get_height() +0.02))"
   ]
  },
  {
   "cell_type": "code",
   "execution_count": 21,
   "metadata": {},
   "outputs": [
    {
     "name": "stdout",
     "output_type": "stream",
     "text": [
      "152\n",
      "152\n",
      "304\n"
     ]
    }
   ],
   "source": [
    "## We select the false claims with the top mean similarity score\n",
    "\n",
    "false_claim_ids_2 = df_filter[df_filter['claim_label']==False][['claim_id','similarity_score']].groupby('claim_id')\\\n",
    ".mean().reset_index().sort_values(by=['similarity_score'], ascending=False).head(152)['claim_id']\n",
    "true_claim_ids_2 = df_filter[df_filter_2['claim_label']==True][['claim_id','claim_label']].groupby('claim_id')\\\n",
    ".first().reset_index()['claim_id']\n",
    "claim_ids_2 = pd.DataFrame(pd.concat([false_claim_ids_2,true_claim_ids_2]))\n",
    "df_filter_2 = pd.merge(df_filter,claim_ids_2)"
   ]
  },
  {
   "cell_type": "code",
   "execution_count": 22,
   "metadata": {},
   "outputs": [
    {
     "data": {
      "image/png": "[encoded data removed]",
      "text/plain": [
       "<matplotlib.figure.Figure at 0x7fde738906d8>"
      ]
     },
     "metadata": {},
     "output_type": "display_data"
    }
   ],
   "source": [
    "## How many true and false claims ?\n",
    "\n",
    "ax = df_filter_2[['claim_id','claim_label']].groupby('claim_id').first().reset_index()['claim_label'].value_counts().plot(kind='bar')\n",
    "for p in ax.patches:\n",
    "    ax.annotate(str(int(p.get_height()*1000)/1000), (p.get_x() +0.1, p.get_height() +0.02))"
   ]
  },
  {
   "cell_type": "code",
   "execution_count": 33,
   "metadata": {},
   "outputs": [
    {
     "data": {
      "text/plain": [
       "<matplotlib.axes._subplots.AxesSubplot at 0x7fde73fbb5f8>"
      ]
     },
     "execution_count": 33,
     "metadata": {},
     "output_type": "execute_result"
    },
    {
     "data": {
      "image/png": "[encoded data removed]",
      "text/plain": [
       "<matplotlib.figure.Figure at 0x7fde73bb2f60>"
      ]
     },
     "metadata": {},
     "output_type": "display_data"
    }
   ],
   "source": [
    "## We keep only the top two snippets per claim with maximum similarity scores\n",
    "\n",
    "snippet_ids = df_filter_2[['claim_id','snippet_id','similarity_score']]\\\n",
    ".sort_values(by=['claim_id','similarity_score'],ascending=False).groupby('claim_id').head(2).reset_index()[['snippet_id']]\n",
    "\n",
    "\n",
    "df_filter_3 = pd.merge(df_filter_2, snippet_ids)"
   ]
  },
  {
   "cell_type": "code",
   "execution_count": 35,
   "metadata": {},
   "outputs": [],
   "source": [
    "## We export the data\n",
    "\n",
    "df_filter_3.to_csv('data/08_documents.csv')"
   ]
  }
 ],
 "metadata": {
  "kernelspec": {
   "display_name": "Python 3",
   "language": "python",
   "name": "python3"
  },
  "language_info": {
   "codemirror_mode": {
    "name": "ipython",
    "version": 3
   },
   "file_extension": ".py",
   "mimetype": "text/x-python",
   "name": "python",
   "nbconvert_exporter": "python",
   "pygments_lexer": "ipython3",
   "version": "3.6.4"
  }
 },
 "nbformat": 4,
 "nbformat_minor": 2
}
