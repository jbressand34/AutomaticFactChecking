{
 "cells": [
  {
   "cell_type": "code",
   "execution_count": 1,
   "metadata": {},
   "outputs": [],
   "source": [
    "import pandas as pd\n",
    "import matplotlib.pyplot as plt\n",
    "from gensim import corpora\n",
    "import numpy as np\n",
    "import re\n",
    "import os"
   ]
  },
  {
   "cell_type": "code",
   "execution_count": 2,
   "metadata": {},
   "outputs": [],
   "source": [
    "df_doc = pd.read_csv('datasets/07_documents.csv')"
   ]
  },
  {
   "cell_type": "code",
   "execution_count": 3,
   "metadata": {},
   "outputs": [
    {
     "data": {
      "text/plain": [
       "Index(['Unnamed: 0', 'document_content', 'snippet_id'], dtype='object')"
      ]
     },
     "execution_count": 3,
     "metadata": {},
     "output_type": "execute_result"
    }
   ],
   "source": [
    "df_doc.columns"
   ]
  },
  {
   "cell_type": "code",
   "execution_count": 4,
   "metadata": {},
   "outputs": [],
   "source": [
    "df_claims = pd.read_csv('datasets/relevent_snippets.csv')"
   ]
  },
  {
   "cell_type": "code",
   "execution_count": 5,
   "metadata": {},
   "outputs": [
    {
     "data": {
      "text/plain": [
       "Index(['Unnamed: 0', 'claim_id', 'snippet_content', 'snippet_date',\n",
       "       'snippet_id', 'snippet_pagenum', 'snippet_title', 'snippet_url',\n",
       "       'claim_content', 'claim_date', 'claim_label', 'claim_tag', 'claim_url',\n",
       "       'similarity_score'],\n",
       "      dtype='object')"
      ]
     },
     "execution_count": 5,
     "metadata": {},
     "output_type": "execute_result"
    }
   ],
   "source": [
    "df_claims.columns"
   ]
  },
  {
   "cell_type": "code",
   "execution_count": 6,
   "metadata": {},
   "outputs": [
    {
     "data": {
      "text/html": [
       "<div>\n",
       "<style scoped>\n",
       "    .dataframe tbody tr th:only-of-type {\n",
       "        vertical-align: middle;\n",
       "    }\n",
       "\n",
       "    .dataframe tbody tr th {\n",
       "        vertical-align: top;\n",
       "    }\n",
       "\n",
       "    .dataframe thead th {\n",
       "        text-align: right;\n",
       "    }\n",
       "</style>\n",
       "<table border=\"1\" class=\"dataframe\">\n",
       "  <thead>\n",
       "    <tr style=\"text-align: right;\">\n",
       "      <th></th>\n",
       "      <th>snippet_id</th>\n",
       "      <th>document_content</th>\n",
       "      <th>claim_id</th>\n",
       "      <th>snippet_date</th>\n",
       "      <th>claim_content</th>\n",
       "      <th>claim_label</th>\n",
       "      <th>similarity_score</th>\n",
       "    </tr>\n",
       "  </thead>\n",
       "  <tbody>\n",
       "    <tr>\n",
       "      <th>0</th>\n",
       "      <td>2620350</td>\n",
       "      <td>\\n  __ _ _ _ __| |_ (_)__ _____\\n    / _` | '_...</td>\n",
       "      <td>11725</td>\n",
       "      <td>14960</td>\n",
       "      <td>\\tSays that all those who do not answer direct...</td>\n",
       "      <td>False</td>\n",
       "      <td>0.736975</td>\n",
       "    </tr>\n",
       "    <tr>\n",
       "      <th>1</th>\n",
       "      <td>1357119</td>\n",
       "      <td>\\n  __ _ _ _ __| |_ (_)__ _____\\n    / _` | '_...</td>\n",
       "      <td>6464</td>\n",
       "      <td>16026</td>\n",
       "      <td>Says there’s no language in the U.S. Constitut...</td>\n",
       "      <td>True</td>\n",
       "      <td>0.699088</td>\n",
       "    </tr>\n",
       "  </tbody>\n",
       "</table>\n",
       "</div>"
      ],
      "text/plain": [
       "   snippet_id                                   document_content  claim_id  \\\n",
       "0     2620350  \\n  __ _ _ _ __| |_ (_)__ _____\\n    / _` | '_...     11725   \n",
       "1     1357119  \\n  __ _ _ _ __| |_ (_)__ _____\\n    / _` | '_...      6464   \n",
       "\n",
       "   snippet_date                                      claim_content  \\\n",
       "0         14960  \\tSays that all those who do not answer direct...   \n",
       "1         16026  Says there’s no language in the U.S. Constitut...   \n",
       "\n",
       "   claim_label  similarity_score  \n",
       "0        False          0.736975  \n",
       "1         True          0.699088  "
      ]
     },
     "execution_count": 6,
     "metadata": {},
     "output_type": "execute_result"
    }
   ],
   "source": [
    "df_merge = pd.merge(df_doc[['snippet_id','document_content']],df_claims[\n",
    "    ['claim_id','snippet_id','snippet_date','claim_content','claim_label','similarity_score']])\n",
    "\n",
    "df_merge.head(2)"
   ]
  },
  {
   "cell_type": "code",
   "execution_count": 7,
   "metadata": {},
   "outputs": [
    {
     "data": {
      "image/png": "[encoded data removed]",
      "text/plain": [
       "<matplotlib.figure.Figure at 0x7f8cd3c1ce10>"
      ]
     },
     "metadata": {},
     "output_type": "display_data"
    }
   ],
   "source": [
    "ax = df_merge[['claim_id','claim_label']].groupby('claim_id').first().reset_index()['claim_label'].value_counts().plot(kind='bar')\n",
    "for p in ax.patches:\n",
    "    ax.annotate(str(int(p.get_height()*1000)/1000), (p.get_x() +0.1, p.get_height() +0.02))"
   ]
  },
  {
   "cell_type": "code",
   "execution_count": 8,
   "metadata": {},
   "outputs": [
    {
     "data": {
      "text/plain": [
       "<matplotlib.axes._subplots.AxesSubplot at 0x7f8cd387e7f0>"
      ]
     },
     "execution_count": 8,
     "metadata": {},
     "output_type": "execute_result"
    },
    {
     "data": {
      "image/png": "[encoded data removed]",
      "text/plain": [
       "<matplotlib.figure.Figure at 0x7f8cd38fe240>"
      ]
     },
     "metadata": {},
     "output_type": "display_data"
    }
   ],
   "source": [
    "fig, axs = plt.subplots(1,2, sharey = True)\n",
    "df_merge[df_merge['claim_label']==True][['claim_id','snippet_id']].groupby('claim_id').count().boxplot(ax=axs[0])\n",
    "df_merge[df_merge['claim_label']==False][['claim_id','snippet_id']].groupby('claim_id').count().boxplot(ax=axs[1])"
   ]
  },
  {
   "cell_type": "code",
   "execution_count": 9,
   "metadata": {},
   "outputs": [
    {
     "name": "stdout",
     "output_type": "stream",
     "text": [
      "352\n",
      "352\n",
      "704\n"
     ]
    }
   ],
   "source": [
    "false_claim_ids = df_merge[df_merge['claim_label']==False][['claim_id','similarity_score']].groupby('claim_id')\\\n",
    ".mean().reset_index().sort_values(by=['similarity_score'], ascending=False).head(352)['claim_id']\n",
    "print(len(false_claim_ids))\n",
    "true_claim_ids = df_merge[df_merge['claim_label']==True][['claim_id','claim_label']].groupby('claim_id')\\\n",
    ".first().reset_index()['claim_id']\n",
    "print(len(true_claim_ids))\n",
    "claim_ids = pd.DataFrame(pd.concat([false_claim_ids,true_claim_ids]))\n",
    "print(len(claim_ids))"
   ]
  },
  {
   "cell_type": "code",
   "execution_count": 10,
   "metadata": {},
   "outputs": [
    {
     "data": {
      "image/png": "[encoded data removed]",
      "text/plain": [
       "<matplotlib.figure.Figure at 0x7f8cd3893860>"
      ]
     },
     "metadata": {},
     "output_type": "display_data"
    }
   ],
   "source": [
    "df_filter = pd.merge(df_merge,claim_ids)\n",
    "ax = df_filter[['claim_id','claim_label']].groupby('claim_id').first().reset_index()['claim_label'].value_counts().plot(kind='bar')\n",
    "for p in ax.patches:\n",
    "    ax.annotate(str(int(p.get_height()*1000)/1000), (p.get_x() +0.1, p.get_height() +0.02))"
   ]
  },
  {
   "cell_type": "code",
   "execution_count": 13,
   "metadata": {},
   "outputs": [
    {
     "data": {
      "text/plain": [
       "<matplotlib.axes._subplots.AxesSubplot at 0x7fde73a60a20>"
      ]
     },
     "execution_count": 13,
     "metadata": {},
     "output_type": "execute_result"
    },
    {
     "data": {
      "image/png": "[encoded data removed]",
      "text/plain": [
       "<matplotlib.figure.Figure at 0x7fde73ab6f60>"
      ]
     },
     "metadata": {},
     "output_type": "display_data"
    }
   ],
   "source": [
    "fig, axs = plt.subplots(1,2, sharey = True)\n",
    "df_filter[df_filter['claim_label']==True][['claim_id','snippet_id']].groupby('claim_id').count()[['snippet_id']].boxplot(ax=axs[0])\n",
    "df_filter[df_filter['claim_label']==False][['claim_id','snippet_id']].groupby('claim_id').count()[['snippet_id']].boxplot(ax=axs[1])"
   ]
  },
  {
   "cell_type": "code",
   "execution_count": 14,
   "metadata": {},
   "outputs": [
    {
     "data": {
      "image/png": "[encoded data removed]",
      "text/plain": [
       "<matplotlib.figure.Figure at 0x7f8cd36fe0f0>"
      ]
     },
     "metadata": {},
     "output_type": "display_data"
    }
   ],
   "source": [
    "ax = df_filter[['claim_id','snippet_id']].groupby('claim_id').count()[['snippet_id']].boxplot()\n",
    "ax.axes.get_xaxis().set_visible(False)\n",
    "ax.set_ylabel('# of relevant documents per associated fact')\n",
    "plt.savefig('08_distribution_number_documents')"
   ]
  },
  {
   "cell_type": "code",
   "execution_count": 17,
   "metadata": {},
   "outputs": [
    {
     "name": "stdout",
     "output_type": "stream",
     "text": [
      "1.0\n",
      "1.0\n",
      "2.0\n",
      "3.0\n"
     ]
    }
   ],
   "source": [
    "print(df_filter[['claim_id','snippet_id']].groupby('claim_id').count()['snippet_id'].quantile(0.1))\n",
    "print(df_filter[['claim_id','snippet_id']].groupby('claim_id').count()['snippet_id'].quantile(0.25))\n",
    "print(df_filter[['claim_id','snippet_id']].groupby('claim_id').count()['snippet_id'].quantile(0.5))\n",
    "print(df_filter[['claim_id','snippet_id']].groupby('claim_id').count()['snippet_id'].quantile(0.75))"
   ]
  },
  {
   "cell_type": "code",
   "execution_count": 18,
   "metadata": {},
   "outputs": [],
   "source": [
    "df_count = df_filter[['claim_id','snippet_id']].groupby('claim_id').count().reset_index()\n",
    "\n",
    "claim_ids_2 = df_count[df_count['snippet_id']>=2][['claim_id']]\n",
    "\n",
    "df_filter_2 = pd.merge(df_filter, claim_ids_2)"
   ]
  },
  {
   "cell_type": "code",
   "execution_count": 19,
   "metadata": {},
   "outputs": [
    {
     "data": {
      "image/png": "[encoded data removed]",
      "text/plain": [
       "<matplotlib.figure.Figure at 0x7fde73880cf8>"
      ]
     },
     "metadata": {},
     "output_type": "display_data"
    }
   ],
   "source": [
    "ax = df_filter_2[['claim_id','claim_label']].groupby('claim_id').first().reset_index()['claim_label'].value_counts().plot(kind='bar')\n",
    "for p in ax.patches:\n",
    "    ax.annotate(str(int(p.get_height()*1000)/1000), (p.get_x() +0.1, p.get_height() +0.02))"
   ]
  },
  {
   "cell_type": "code",
   "execution_count": 21,
   "metadata": {},
   "outputs": [
    {
     "name": "stdout",
     "output_type": "stream",
     "text": [
      "152\n",
      "152\n",
      "304\n"
     ]
    }
   ],
   "source": [
    "false_claim_ids_2 = df_filter_2[df_filter_2['claim_label']==False][['claim_id','similarity_score']].groupby('claim_id')\\\n",
    ".mean().reset_index().sort_values(by=['similarity_score'], ascending=False).head(152)['claim_id']\n",
    "print(len(false_claim_ids_2))\n",
    "true_claim_ids_2 = df_filter_2[df_filter_2['claim_label']==True][['claim_id','claim_label']].groupby('claim_id')\\\n",
    ".first().reset_index()['claim_id']\n",
    "print(len(true_claim_ids_2))\n",
    "claim_ids_2 = pd.DataFrame(pd.concat([false_claim_ids_2,true_claim_ids_2]))\n",
    "print(len(claim_ids_2))"
   ]
  },
  {
   "cell_type": "code",
   "execution_count": 22,
   "metadata": {},
   "outputs": [
    {
     "data": {
      "image/png": "[encoded data removed]",
      "text/plain": [
       "<matplotlib.figure.Figure at 0x7fde738906d8>"
      ]
     },
     "metadata": {},
     "output_type": "display_data"
    }
   ],
   "source": [
    "df_filter_3 = pd.merge(df_filter_2,claim_ids_2)\n",
    "ax = df_filter_3[['claim_id','claim_label']].groupby('claim_id').first().reset_index()['claim_label'].value_counts().plot(kind='bar')\n",
    "for p in ax.patches:\n",
    "    ax.annotate(str(int(p.get_height()*1000)/1000), (p.get_x() +0.1, p.get_height() +0.02))"
   ]
  },
  {
   "cell_type": "code",
   "execution_count": 23,
   "metadata": {},
   "outputs": [
    {
     "data": {
      "text/plain": [
       "<matplotlib.axes._subplots.AxesSubplot at 0x7fde73780898>"
      ]
     },
     "execution_count": 23,
     "metadata": {},
     "output_type": "execute_result"
    },
    {
     "data": {
      "image/png": "[encoded data removed]",
      "text/plain": [
       "<matplotlib.figure.Figure at 0x7fde7387c320>"
      ]
     },
     "metadata": {},
     "output_type": "display_data"
    }
   ],
   "source": [
    "fig, axs = plt.subplots(1,2, sharey = True)\n",
    "df_filter_3[df_filter_3['claim_label']==True][['claim_id','snippet_id']].groupby('claim_id').count()[['snippet_id']].boxplot(ax=axs[0])\n",
    "df_filter_3[df_filter_3['claim_label']==False][['claim_id','snippet_id']].groupby('claim_id').count()[['snippet_id']].boxplot(ax=axs[1])"
   ]
  },
  {
   "cell_type": "code",
   "execution_count": 33,
   "metadata": {},
   "outputs": [
    {
     "data": {
      "text/plain": [
       "<matplotlib.axes._subplots.AxesSubplot at 0x7fde73fbb5f8>"
      ]
     },
     "execution_count": 33,
     "metadata": {},
     "output_type": "execute_result"
    },
    {
     "data": {
      "image/png": "[encoded data removed]",
      "text/plain": [
       "<matplotlib.figure.Figure at 0x7fde73bb2f60>"
      ]
     },
     "metadata": {},
     "output_type": "display_data"
    }
   ],
   "source": [
    "snippet_ids = df_filter_3[['claim_id','snippet_id','similarity_score']]\\\n",
    ".sort_values(by=['claim_id','similarity_score'],ascending=False).groupby('claim_id').head(2).reset_index()[['snippet_id']]\n",
    "\n",
    "\n",
    "df_filter_4 = pd.merge(df_filter_3, snippet_ids)\n",
    "df_filter_4[['claim_id','snippet_id']].groupby('claim_id').count()['snippet_id'].value_counts().plot(kind='bar')"
   ]
  },
  {
   "cell_type": "code",
   "execution_count": 34,
   "metadata": {},
   "outputs": [
    {
     "name": "stderr",
     "output_type": "stream",
     "text": [
      "/home/ymerej/anaconda3/lib/python3.6/site-packages/ipykernel_launcher.py:2: UserWarning: Boolean Series key will be reindexed to match DataFrame index.\n",
      "  \n",
      "/home/ymerej/anaconda3/lib/python3.6/site-packages/ipykernel_launcher.py:3: UserWarning: Boolean Series key will be reindexed to match DataFrame index.\n",
      "  This is separate from the ipykernel package so we can avoid doing imports until\n"
     ]
    },
    {
     "data": {
      "text/plain": [
       "<matplotlib.axes._subplots.AxesSubplot at 0x7fde7173c668>"
      ]
     },
     "execution_count": 34,
     "metadata": {},
     "output_type": "execute_result"
    },
    {
     "data": {
      "image/png": "[encoded data removed]",
      "text/plain": [
       "<matplotlib.figure.Figure at 0x7fde738e5ac8>"
      ]
     },
     "metadata": {},
     "output_type": "display_data"
    }
   ],
   "source": [
    "fig, axs = plt.subplots(1,2, sharey = True)\n",
    "df_filter_4[df_filter['claim_label']==True][['claim_id','similarity_score']].groupby('claim_id').mean()[['similarity_score']].boxplot(ax=axs[0])\n",
    "df_filter_4[df_filter['claim_label']==False][['claim_id','similarity_score']].groupby('claim_id').mean()[['similarity_score']].boxplot(ax=axs[1])"
   ]
  },
  {
   "cell_type": "code",
   "execution_count": 35,
   "metadata": {},
   "outputs": [],
   "source": [
    "df_filter_4.to_csv('datasets/08_documents.csv')"
   ]
  },
  {
   "cell_type": "code",
   "execution_count": null,
   "metadata": {},
   "outputs": [],
   "source": []
  }
 ],
 "metadata": {
  "kernelspec": {
   "display_name": "Python 3",
   "language": "python",
   "name": "python3"
  },
  "language_info": {
   "codemirror_mode": {
    "name": "ipython",
    "version": 3
   },
   "file_extension": ".py",
   "mimetype": "text/x-python",
   "name": "python",
   "nbconvert_exporter": "python",
   "pygments_lexer": "ipython3",
   "version": "3.6.4"
  }
 },
 "nbformat": 4,
 "nbformat_minor": 2
}
