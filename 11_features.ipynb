{
 "cells": [
  {
   "cell_type": "code",
   "execution_count": 1,
   "metadata": {},
   "outputs": [],
   "source": [
    "import pandas as pd\n",
    "import matplotlib.pyplot as plt\n",
    "from gensim import corpora, models, matutils\n",
    "import numpy as np\n",
    "import ast"
   ]
  },
  {
   "cell_type": "code",
   "execution_count": 2,
   "metadata": {},
   "outputs": [
    {
     "data": {
      "text/plain": [
       "Index(['Unnamed: 0', 'Unnamed: 0.1', 'claim_id', 'document_content',\n",
       "       'similarity_score', 'claim_label', 'claim_content', 'document_bow_19.5',\n",
       "       'document_tfidf_19.5', 'document_bow_19.0',\n",
       "       ...\n",
       "       'claim_bow_0.1', 'claim_tfidf_0.1', 'claim_bow_0.09',\n",
       "       'claim_tfidf_0.09', 'claim_bow_0.08', 'claim_tfidf_0.08',\n",
       "       'claim_bow_0.07', 'claim_tfidf_0.07', 'claim_bow_0.06',\n",
       "       'claim_tfidf_0.06'],\n",
       "      dtype='object', length=111)"
      ]
     },
     "execution_count": 2,
     "metadata": {},
     "output_type": "execute_result"
    }
   ],
   "source": [
    "df_doc = pd.read_csv('datasets/10_tfidf.csv')\n",
    "df_doc.columns"
   ]
  },
  {
   "cell_type": "code",
   "execution_count": 3,
   "metadata": {},
   "outputs": [],
   "source": [
    "for nb_word in sorted(list(np.arange(500,20000,500)),reverse=True):\n",
    "    df_doc['document_bow_'+str(nb_word/1000)] = df_doc['document_bow_'+str(nb_word/1000)].apply(lambda st: ast.literal_eval(st))\n",
    "    df_doc['document_tfidf_'+str(nb_word/1000)] = df_doc['document_tfidf_'+str(nb_word/1000)].apply(lambda st: ast.literal_eval(st))\n",
    "for nb_word in sorted(list(np.arange(60,186,10)),reverse=True):    \n",
    "    df_doc['claim_bow_'+str(nb_word/1000)] = df_doc['claim_bow_'+str(nb_word/1000)].apply(lambda st: ast.literal_eval(st))\n",
    "    df_doc['claim_tfidf_'+str(nb_word/1000)] = df_doc['claim_tfidf_'+str(nb_word/1000)].apply(lambda st: ast.literal_eval(st))"
   ]
  },
  {
   "cell_type": "code",
   "execution_count": 4,
   "metadata": {},
   "outputs": [],
   "source": [
    "for nb_word in sorted(list(np.arange(500,20000,500)),reverse=True):\n",
    "    for nb_topic in np.arange(20,310,20):\n",
    "        lsi = models.LsiModel.load('topic_models/10_doc_'+str(nb_word/1000)+'_'+str(nb_topic)+'.lsi')\n",
    "        rp = models.RpModel.load('topic_models/10_doc_'+str(nb_word/1000)+'_'+str(nb_topic)+'.rp')\n",
    "        lda = models.RpModel.load('topic_models/10_doc_'+str(nb_word/1000)+'_'+str(nb_topic)+'.lda')\n",
    "        \n",
    "        df_doc['document_lsi_'+str(nb_word/1000)+'_'+str(nb_topic)] = \\\n",
    "        df_doc['document_tfidf_'+str(nb_word/1000)].apply(lambda x: lsi[x])\n",
    "        df_doc['document_rp_'+str(nb_word/1000)+'_'+str(nb_topic)] = \\\n",
    "        df_doc['document_bow_'+str(nb_word/1000)].apply(lambda x: rp[x])\n",
    "        df_doc['document_lda_'+str(nb_word/1000)+'_'+str(nb_topic)] = \\\n",
    "        df_doc['document_bow_'+str(nb_word/1000)].apply(lambda x: lda[x])\n",
    "\n",
    "for nb_word in sorted(list(np.arange(60,186,10)),reverse=True):\n",
    "    for nb_topic in np.arange(10,60,10):\n",
    "        lsi = models.LsiModel.load('topic_models/10_claim_'+str(nb_word/1000)+'_'+str(nb_topic)+'.lsi')\n",
    "        rp = models.RpModel.load('topic_models/10_claim_'+str(nb_word/1000)+'_'+str(nb_topic)+'.rp')\n",
    "        lda = models.RpModel.load('topic_models/10_claim_'+str(nb_word/1000)+'_'+str(nb_topic)+'.lda')\n",
    "        \n",
    "        df_doc['claim_lsi_'+str(nb_word/1000)+'_'+str(nb_topic)] = \\\n",
    "        df_doc['claim_tfidf_'+str(nb_word/1000)].apply(lambda x: lsi[x])\n",
    "        df_doc['claim_rp_'+str(nb_word/1000)+'_'+str(nb_topic)] = \\\n",
    "        df_doc['claim_bow_'+str(nb_word/1000)].apply(lambda x: rp[x])\n",
    "        df_doc['claim_lda_'+str(nb_word/1000)+'_'+str(nb_topic)] = \\\n",
    "        df_doc['claim_bow_'+str(nb_word/1000)].apply(lambda x: lda[x])"
   ]
  },
  {
   "cell_type": "code",
   "execution_count": 5,
   "metadata": {},
   "outputs": [],
   "source": [
    "feature_categories_document = []\n",
    "for nb_word in sorted(list(np.arange(500,20000,500)),reverse=True):\n",
    "    for f in ['bow','tfidf']:\n",
    "        feature_categories_document.append('document_'+f+'_'+str(nb_word/1000))\n",
    "    for nb_topic in np.arange(20,310,20):\n",
    "        for f in ['lsi','lda','rp']:\n",
    "            feature_categories_document.append('document_'+f+'_'+str(nb_word/1000)+'_'+str(nb_topic))\n",
    "feature_categories_claim = []            \n",
    "for nb_word in sorted(list(np.arange(60,186,10)),reverse=True):\n",
    "    for f in ['bow','tfidf']:\n",
    "        feature_categories_claim.append('claim_'+f+'_'+str(nb_word/1000))\n",
    "    for nb_topic in np.arange(10,60,10):\n",
    "        for f in ['lsi','lda','rp']:\n",
    "            feature_categories_claim.append('claim_'+f+'_'+str(nb_word/1000)+'_'+str(nb_topic))"
   ]
  },
  {
   "cell_type": "code",
   "execution_count": 7,
   "metadata": {},
   "outputs": [],
   "source": [
    "df_doc[['claim_id','claim_label']+feature_categories_document+feature_categories_claim].to_csv('datasets/11_features.csv')"
   ]
  },
  {
   "cell_type": "code",
   "execution_count": null,
   "metadata": {},
   "outputs": [],
   "source": []
  }
 ],
 "metadata": {
  "kernelspec": {
   "display_name": "Python 3",
   "language": "python",
   "name": "python3"
  },
  "language_info": {
   "codemirror_mode": {
    "name": "ipython",
    "version": 3
   },
   "file_extension": ".py",
   "mimetype": "text/x-python",
   "name": "python",
   "nbconvert_exporter": "python",
   "pygments_lexer": "ipython3",
   "version": "3.6.4"
  }
 },
 "nbformat": 4,
 "nbformat_minor": 2
}
