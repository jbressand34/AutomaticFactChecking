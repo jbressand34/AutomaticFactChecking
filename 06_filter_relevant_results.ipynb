{
 "cells": [
  {
   "cell_type": "code",
   "execution_count": 1,
   "metadata": {},
   "outputs": [],
   "source": [
    "import pandas as pd\n",
    "import matplotlib.pyplot as plt\n",
    "from gensim import corpora, models, similarities\n",
    "import numpy as np\n",
    "import ast"
   ]
  },
  {
   "cell_type": "code",
   "execution_count": 2,
   "metadata": {},
   "outputs": [],
   "source": [
    "## We import the claim and the snippets\n",
    "\n",
    "df_bow = pd.read_csv('data/02_bow_snippets_claims.csv')[['snippet_id','claim_id','snippet_content','claim_content']]\n",
    "df_bow.columns = ['snippet_id','claim_id','snippet_bow','claim_bow']"
   ]
  },
  {
   "cell_type": "code",
   "execution_count": 3,
   "metadata": {},
   "outputs": [
    {
     "name": "stdout",
     "output_type": "stream",
     "text": [
      "   snippet_id                                        snippet_bow\n",
      "0         968  [past, week, republican, members_congress, nom...\n",
      "1         969  [european_union, long_criticized, east_europea...\n",
      "   claim_id                                     claim_bow\n",
      "0         9        [taxes, spent, so_called, 'war_terror]\n",
      "1        18  [says, north_korea, agreed_denuclearization]\n"
     ]
    }
   ],
   "source": [
    "## We evaluate strings from snippets and claims as list of terms\n",
    "\n",
    "df_bow['snippet_bow'] = df_bow['snippet_bow'].apply(lambda st: ast.literal_eval(st))\n",
    "df_bow['claim_bow'] = df_bow['claim_bow'].apply(lambda st: ast.literal_eval(st))"
   ]
  },
  {
   "cell_type": "code",
   "execution_count": 16,
   "metadata": {},
   "outputs": [],
   "source": [
    "## We transform list of terms into list of indices using the chosen dictionary\n",
    "\n",
    "dictionary = corpora.Dictionary.load('dictionaries/02_30.0.dict')\n",
    "\n",
    "df_bow['snippet_bow'] = df_bow['snippet_bow'].apply(lambda x: dictionary.doc2bow(x))\n",
    "df_bow['claim_bow'] = df_bow['claim_bow'].apply(lambda x: dictionary.doc2bow(x))"
   ]
  },
  {
   "cell_type": "code",
   "execution_count": 17,
   "metadata": {},
   "outputs": [],
   "source": [
    "## We apply the chosen topic model on list of indices from snippets and claims \n",
    "\n",
    "lda = models.LdaModel.load('topic_models/03_30.0_200.lda')\n",
    "df_bow['snippet_bow'] = df_bow['snippet_bow'].apply(lambda x: lda[x])\n",
    "df_bow['claim_bow'] = df_bow['claim_bow'].apply(lambda x: lda[x])"
   ]
  },
  {
   "cell_type": "code",
   "execution_count": 31,
   "metadata": {},
   "outputs": [],
   "source": [
    "## For each pair of claim/snippet, we compute the similarity measure\n",
    "\n",
    "dic_similarities = {}\n",
    "dic_similarities['snippet_id'] = list(df_bow[['claim_id','snippet_id']]\\\n",
    ".sort_values(by=['claim_id','snippet_id'],ascending=False)['snippet_id'].as_matrix())\n",
    "dic_similarities['similarity_score']=[]\n",
    "\n",
    "claim_ids = sorted(list(df_bow['claim_id'].unique()),reverse=True)\n",
    "\n",
    "for claim_id in claim_ids:\n",
    "    df_ = df_bow[df_merge['claim_id']==claim_id][['snippet_id','snippet_bow','claim_bow']]\\\n",
    "    .sort_values(by=['snippet_id'],ascending=False)\n",
    "    claim_bow = list(df_['claim_bow'].as_matrix())[0]\n",
    "    snippet_bow = list(df_['snippet_bow'].as_matrix())\n",
    "    lda_index = similarities.MatrixSimilarity(snippet_bow)\n",
    "    max_ = np.max([x[0] for lst in snippet_bow for x in lst])\n",
    "    sims_lda = lda_index[list(filter(lambda x: x[0]<=max_,claim_bow))]\n",
    "    for i in range(0,len(snippet_bow)):\n",
    "        dic_similarities['similarity_score'].append(sims_lda[i])\n",
    "df_similarities = pd.DataFrame(dic_similarities)  \n",
    "\n",
    "df_merge = pd.merge(df_bow,df_similarities)"
   ]
  },
  {
   "cell_type": "code",
   "execution_count": 34,
   "metadata": {},
   "outputs": [
    {
     "data": {
      "text/html": [
       "<div>\n",
       "<style scoped>\n",
       "    .dataframe tbody tr th:only-of-type {\n",
       "        vertical-align: middle;\n",
       "    }\n",
       "\n",
       "    .dataframe tbody tr th {\n",
       "        vertical-align: top;\n",
       "    }\n",
       "\n",
       "    .dataframe thead th {\n",
       "        text-align: right;\n",
       "    }\n",
       "</style>\n",
       "<table border=\"1\" class=\"dataframe\">\n",
       "  <thead>\n",
       "    <tr style=\"text-align: right;\">\n",
       "      <th></th>\n",
       "      <th>claim_id</th>\n",
       "      <th>snippet_id</th>\n",
       "      <th>snippet_bow</th>\n",
       "      <th>claim_bow</th>\n",
       "      <th>similarity_score</th>\n",
       "    </tr>\n",
       "  </thead>\n",
       "  <tbody>\n",
       "    <tr>\n",
       "      <th>72</th>\n",
       "      <td>9</td>\n",
       "      <td>1414</td>\n",
       "      <td>[(46, 0.09136364), (51, 0.09136364), (52, 0.09...</td>\n",
       "      <td>[(91, 0.25125), (108, 0.25125), (115, 0.251250...</td>\n",
       "      <td>0.738715</td>\n",
       "    </tr>\n",
       "    <tr>\n",
       "      <th>265</th>\n",
       "      <td>18</td>\n",
       "      <td>2517</td>\n",
       "      <td>[(84, 0.30574563), (166, 0.088644795), (171, 0...</td>\n",
       "      <td>[(176, 0.66833335)]</td>\n",
       "      <td>0.662764</td>\n",
       "    </tr>\n",
       "  </tbody>\n",
       "</table>\n",
       "</div>"
      ],
      "text/plain": [
       "     claim_id  snippet_id                                        snippet_bow  \\\n",
       "72          9        1414  [(46, 0.09136364), (51, 0.09136364), (52, 0.09...   \n",
       "265        18        2517  [(84, 0.30574563), (166, 0.088644795), (171, 0...   \n",
       "\n",
       "                                             claim_bow  similarity_score  \n",
       "72   [(91, 0.25125), (108, 0.25125), (115, 0.251250...          0.738715  \n",
       "265                                [(176, 0.66833335)]          0.662764  "
      ]
     },
     "execution_count": 34,
     "metadata": {},
     "output_type": "execute_result"
    }
   ],
   "source": [
    "## We keep only snippets with a similarity score above 0.65 to ensure that the snippets are relevant\n",
    "\n",
    "df_filter = df_merge[df_merge['similarity_score']>=0.65]"
   ]
  },
  {
   "cell_type": "code",
   "execution_count": 38,
   "metadata": {},
   "outputs": [
    {
     "data": {
      "text/html": [
       "<div>\n",
       "<style scoped>\n",
       "    .dataframe tbody tr th:only-of-type {\n",
       "        vertical-align: middle;\n",
       "    }\n",
       "\n",
       "    .dataframe tbody tr th {\n",
       "        vertical-align: top;\n",
       "    }\n",
       "\n",
       "    .dataframe thead th {\n",
       "        text-align: right;\n",
       "    }\n",
       "</style>\n",
       "<table border=\"1\" class=\"dataframe\">\n",
       "  <thead>\n",
       "    <tr style=\"text-align: right;\">\n",
       "      <th></th>\n",
       "      <th>Unnamed: 0</th>\n",
       "      <th>Unnamed: 0.1</th>\n",
       "      <th>claim_id</th>\n",
       "      <th>snippet_content</th>\n",
       "      <th>snippet_date</th>\n",
       "      <th>snippet_id</th>\n",
       "      <th>snippet_pagenum</th>\n",
       "      <th>snippet_title</th>\n",
       "      <th>snippet_url</th>\n",
       "      <th>claim_content</th>\n",
       "      <th>claim_date</th>\n",
       "      <th>claim_label</th>\n",
       "      <th>claim_tag</th>\n",
       "      <th>claim_url</th>\n",
       "      <th>similarity_score</th>\n",
       "    </tr>\n",
       "  </thead>\n",
       "  <tbody>\n",
       "    <tr>\n",
       "      <th>0</th>\n",
       "      <td>72</td>\n",
       "      <td>1414</td>\n",
       "      <td>9</td>\n",
       "      <td>The swamp has declared war on ... comes to how...</td>\n",
       "      <td>17639</td>\n",
       "      <td>1414</td>\n",
       "      <td>6</td>\n",
       "      <td>Nancy Pelosi Archives - Empower Texans</td>\n",
       "      <td>https://empowertexans.com/tag/nancy-pelosi/</td>\n",
       "      <td>Most of our taxes are spent on the so-called ‘...</td>\n",
       "      <td>17645</td>\n",
       "      <td>False</td>\n",
       "      <td>— PolitiFact National</td>\n",
       "      <td>/truth-o-meter/statements/2018/apr/24/ro-khann...</td>\n",
       "      <td>0.738715</td>\n",
       "    </tr>\n",
       "    <tr>\n",
       "      <th>1</th>\n",
       "      <td>265</td>\n",
       "      <td>2517</td>\n",
       "      <td>18</td>\n",
       "      <td>Trump Says North Korea Agreed to Denuclearize....</td>\n",
       "      <td>17639</td>\n",
       "      <td>2517</td>\n",
       "      <td>1</td>\n",
       "      <td>Navy Releases Service Details for Hero …</td>\n",
       "      <td>https://www.military.com/daily-news/2018/04/18...</td>\n",
       "      <td>Says North Korea has agreed to denuclearization.</td>\n",
       "      <td>17643</td>\n",
       "      <td>False</td>\n",
       "      <td>— PolitiFact National</td>\n",
       "      <td>/truth-o-meter/statements/2018/apr/22/donald-t...</td>\n",
       "      <td>0.662764</td>\n",
       "    </tr>\n",
       "  </tbody>\n",
       "</table>\n",
       "</div>"
      ],
      "text/plain": [
       "   Unnamed: 0  Unnamed: 0.1  claim_id  \\\n",
       "0          72          1414         9   \n",
       "1         265          2517        18   \n",
       "\n",
       "                                     snippet_content  snippet_date  \\\n",
       "0  The swamp has declared war on ... comes to how...         17639   \n",
       "1  Trump Says North Korea Agreed to Denuclearize....         17639   \n",
       "\n",
       "   snippet_id  snippet_pagenum                             snippet_title  \\\n",
       "0        1414                6    Nancy Pelosi Archives - Empower Texans   \n",
       "1        2517                1  Navy Releases Service Details for Hero …   \n",
       "\n",
       "                                         snippet_url  \\\n",
       "0        https://empowertexans.com/tag/nancy-pelosi/   \n",
       "1  https://www.military.com/daily-news/2018/04/18...   \n",
       "\n",
       "                                       claim_content  claim_date  claim_label  \\\n",
       "0  Most of our taxes are spent on the so-called ‘...       17645        False   \n",
       "1   Says North Korea has agreed to denuclearization.       17643        False   \n",
       "\n",
       "                claim_tag                                          claim_url  \\\n",
       "0  — PolitiFact National   /truth-o-meter/statements/2018/apr/24/ro-khann...   \n",
       "1  — PolitiFact National   /truth-o-meter/statements/2018/apr/22/donald-t...   \n",
       "\n",
       "   similarity_score  \n",
       "0          0.738715  \n",
       "1          0.662764  "
      ]
     },
     "execution_count": 38,
     "metadata": {},
     "output_type": "execute_result"
    }
   ],
   "source": [
    "## We import data associated to the selected snippets\n",
    "\n",
    "df_snippets_2 = pd.read_csv('data/00_dataset.csv')\n",
    "df_final = pd.merge(df_snippets_2,df_filter[['snippet_id','similarity_score']])"
   ]
  },
  {
   "cell_type": "code",
   "execution_count": 44,
   "metadata": {},
   "outputs": [],
   "source": [
    "## We export the data\n",
    "\n",
    "df_final[['claim_id','snippet_content',\n",
    "       'snippet_date', 'snippet_id', 'snippet_pagenum', 'snippet_title',\n",
    "       'snippet_url', 'claim_content', 'claim_date', 'claim_label',\n",
    "       'claim_tag', 'claim_url', 'similarity_score']].to_csv('data/06_relevent_snippets.csv', index=False)"
   ]
  },
  {
   "cell_type": "code",
   "execution_count": null,
   "metadata": {},
   "outputs": [],
   "source": []
  }
 ],
 "metadata": {
  "kernelspec": {
   "display_name": "Python 3",
   "language": "python",
   "name": "python3"
  },
  "language_info": {
   "codemirror_mode": {
    "name": "ipython",
    "version": 3
   },
   "file_extension": ".py",
   "mimetype": "text/x-python",
   "name": "python",
   "nbconvert_exporter": "python",
   "pygments_lexer": "ipython3",
   "version": "3.6.4"
  }
 },
 "nbformat": 4,
 "nbformat_minor": 2
}
