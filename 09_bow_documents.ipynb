{
 "cells": [
  {
   "cell_type": "code",
   "execution_count": 1,
   "metadata": {},
   "outputs": [],
   "source": [
    "import pandas as pd\n",
    "import matplotlib.pyplot as plt\n",
    "from gensim import corpora\n",
    "from gensim.models import Phrases\n",
    "import nltk\n",
    "import re\n",
    "import numpy as np\n",
    "from nltk.corpus import stopwords"
   ]
  },
  {
   "cell_type": "code",
   "execution_count": 2,
   "metadata": {},
   "outputs": [
    {
     "data": {
      "text/plain": [
       "Index(['Unnamed: 0', 'snippet_id', 'document_content', 'claim_id',\n",
       "       'snippet_date', 'claim_content', 'claim_label', 'similarity_score'],\n",
       "      dtype='object')"
      ]
     },
     "execution_count": 2,
     "metadata": {},
     "output_type": "execute_result"
    }
   ],
   "source": [
    "## We import data\n",
    "\n",
    "df_documents = pd.read_csv('data/08_documents.csv')"
   ]
  },
  {
   "cell_type": "code",
   "execution_count": 3,
   "metadata": {},
   "outputs": [
    {
     "data": {
      "text/plain": [
       "<matplotlib.axes._subplots.AxesSubplot at 0x7f371a57c668>"
      ]
     },
     "execution_count": 3,
     "metadata": {},
     "output_type": "execute_result"
    },
    {
     "data": {
      "image/png": "[encoded data removed]",
      "text/plain": [
       "<matplotlib.figure.Figure at 0x7f373ee10978>"
      ]
     },
     "metadata": {},
     "output_type": "display_data"
    }
   ],
   "source": [
    "## One document has a content of type float instead of str, we remove it and the associated claim\n",
    "\n",
    "df_type = df_documents[['claim_id','document_content']].copy()\n",
    "df_type['document_content']=df_type['document_content'].apply(lambda x: str(type(x)))\n",
    "\n",
    "claim_ids = df_type.sort_values(by=['claim_id','document_content']).groupby('claim_id')\\\n",
    ".first().reset_index().loc[lambda x: x.document_content==str(type('lalala'))][['claim_id']]\n",
    "\n",
    "df_documents_2 = pd.merge(df_documents,claim_ids)\n",
    "\n",
    "false_claim_ids = df_documents_2[df_documents_2['claim_label']==False][['claim_id','similarity_score']].groupby('claim_id')\\\n",
    ".mean().reset_index().sort_values(by=['similarity_score'], ascending=False).head(151)['claim_id']\n",
    "\n",
    "true_claim_ids = df_documents_2[df_documents_2['claim_label']==True][['claim_id','claim_label']].groupby('claim_id')\\\n",
    ".first().reset_index()['claim_id']\n",
    "\n",
    "claim_ids = pd.DataFrame(pd.concat([false_claim_ids,true_claim_ids]))\n",
    "\n",
    "df_documents_3 = pd.merge(df_documents_2,claim_ids)"
   ]
  },
  {
   "cell_type": "code",
   "execution_count": 7,
   "metadata": {},
   "outputs": [],
   "source": [
    "## We preprocess quotes and double quotes in the content of our documents and claims\n",
    "\n",
    "s_quotes = ['`','´','ʹ','ʻ','ʼ','ʽ','ˊ','ˋ','˴','ʹ','΄','ՙ','՚','՛','՜','՝','‘','’','‛','′','‵', 'ߴ','י' ,'׳', 'ߵ']\n",
    "d_quotes = ['ʺ','˝','ˮ','˵','˶','ײ','״', '“', '”', '‟', '″', '‴', '‶', '‷','``']\n",
    "\n",
    "def replace_quotes(st):\n",
    "    global s_quotes, d_quotes\n",
    "    for c in s_quotes:\n",
    "        st = st.replace(c,\"'\")\n",
    "    for c in d_quotes:\n",
    "        st = st.replace(c,'\"')\n",
    "    return st\n",
    "\n",
    "df_documents_3['document_content'] = df_documents_3['document_content'].apply(lambda x: replace_quotes(x))\n",
    "df_documents_3['claim_content'] = df_documents_3['claim_content'].apply(lambda x: replace_quotes(x))"
   ]
  },
  {
   "cell_type": "code",
   "execution_count": 8,
   "metadata": {},
   "outputs": [],
   "source": [
    "## We preprocess gargabe characters in the content of our documents and claims\n",
    "\n",
    "garbage = \"…[]•™💕🙂🇮🇩→♦☺~∼^★≈≥⌂℠„♫⊕†☆®©¬〇...\"\n",
    "\n",
    "def rm_garbage(st):\n",
    "    global garbage\n",
    "    for c in garbage:\n",
    "        st = st.replace(c,'')\n",
    "    return st\n",
    "\n",
    "df_documents_3['document_content'] = df_documents_3['document_content'].apply(lambda x: rm_garbage(x))\n",
    "df_documents_3['claim_content'] = df_documents_3['claim_content'].apply(lambda x: rm_garbage(x))"
   ]
  },
  {
   "cell_type": "code",
   "execution_count": 9,
   "metadata": {},
   "outputs": [],
   "source": [
    "## We lower the content of our documents and claims\n",
    "\n",
    "df_documents_3['document_content'] = df_documents_3['document_content'].apply(lambda x: x.lower())\n",
    "df_documents_3['claim_content'] = df_documents_3['claim_content'].apply(lambda x: x.lower())"
   ]
  },
  {
   "cell_type": "code",
   "execution_count": 10,
   "metadata": {},
   "outputs": [],
   "source": [
    "## We preprocess format errors on the content of our documents and claims \n",
    "\n",
    "df_documents_3['snippet_content'] = df_documents_3['document_content'].apply(lambda x: x.replace('â€™s',''))\n",
    "df_documents_3['snippet_content'] = df_documents_3['document_content'].apply(lambda x: x.replace('€€€',''))\n",
    "df_documents_3['snippet_content'] = df_documents_3['document_content'].apply(lambda x: x.replace('â€œ',''))\n",
    "df_documents_3['snippet_content'] = df_documents_3['document_content'].apply(lambda x: x.replace('â€',''))\n",
    "df_documents_3['snippet_content'] = df_documents_3['document_content'].apply(lambda x: x.replace('â',''))\n",
    "df_documents_3['snippet_content'] = df_documents_3['document_content'].apply(lambda x: x.replace('\\\\n',''))\n",
    "df_documents_3['snippet_content'] = df_documents_3['document_content'].apply(lambda x: x.replace('\\\\r',''))\n",
    "df_documents_3['snippet_content'] = df_documents_3['document_content'].apply(lambda x: x.replace('\\\\t',''))\n",
    "df_documents_3['snippet_content'] = df_documents_3['document_content'].apply(lambda x: x.replace('\\\\',''))\n",
    "\n",
    "df_documents_3['claim_content'] = df_documents_3['claim_content'].apply(lambda x: x.replace('â€™s',''))\n",
    "df_documents_3['claim_content'] = df_documents_3['claim_content'].apply(lambda x: x.replace('€€€',''))\n",
    "df_documents_3['claim_content'] = df_documents_3['claim_content'].apply(lambda x: x.replace('â€œ',''))\n",
    "df_documents_3['claim_content'] = df_documents_3['claim_content'].apply(lambda x: x.replace('â€',''))\n",
    "df_documents_3['claim_content'] = df_documents_3['claim_content'].apply(lambda x: x.replace('â',''))\n",
    "df_documents_3['claim_content'] = df_documents_3['claim_content'].apply(lambda x: x.replace('\\\\n',''))\n",
    "df_documents_3['claim_content'] = df_documents_3['claim_content'].apply(lambda x: x.replace('\\\\r',''))\n",
    "df_documents_3['claim_content'] = df_documents_3['claim_content'].apply(lambda x: x.replace('\\\\t',''))\n",
    "df_documents_3['claim_content'] = df_documents_3['claim_content'].apply(lambda x: x.replace('\\\\',''))"
   ]
  },
  {
   "cell_type": "code",
   "execution_count": 11,
   "metadata": {},
   "outputs": [],
   "source": [
    "## We preprocess abbreviations on the content of our documents and claims\n",
    "\n",
    "usa_abr = ['u.s.','u.s','u.s…','u.s.-','u.s.—','-u.s.', \n",
    " 'u.s..', '\\'u.s']\n",
    "unitednations_abr = ['u.n.']\n",
    "losangeles_abr = ['l.a.', 'l.a','l.a.','l.a']\n",
    "unitedkingdom_abr = ['u.k']\n",
    "newyork_abr = ['n.y.','n.y']\n",
    "europeanunion_abr = ['e.u']\n",
    "\n",
    "def replace_abr(st):\n",
    "    for abr in usa_abr:\n",
    "        if abr in st:\n",
    "            st = st.replace(abr,'united states')\n",
    "    for abr in unitednations_abr:\n",
    "        if abr in st:\n",
    "            st = st.replace(abr,'united nations')\n",
    "    for abr in losangeles_abr:\n",
    "        if abr in st:\n",
    "            st = st.replace(abr,'los angeles')\n",
    "    for abr in unitedkingdom_abr:\n",
    "        if abr in st:\n",
    "            st = st.replace(abr, 'united kingdom')\n",
    "    for abr in newyork_abr:\n",
    "        if abr in st:\n",
    "            st = st.replace(abr, 'new york')\n",
    "    for abr in europeanunion_abr:\n",
    "        if abr in st:\n",
    "            st = st.replace(abr, 'european union')\n",
    "    return st\n",
    "\n",
    "df_documents_3['document_content'] = df_documents_3['document_content'].apply(lambda x: replace_abr(x))\n",
    "df_documents_3['claim_content'] = df_documents_3['claim_content'].apply(lambda x: replace_abr(x))"
   ]
  },
  {
   "cell_type": "code",
   "execution_count": 12,
   "metadata": {},
   "outputs": [],
   "source": [
    "## We preprocess separating characters (e.g. and/or -> and or)\n",
    "\n",
    "str_sep = '*:•/_–—\\\\-‐,.|‑…→]―=[~+'\n",
    "\n",
    "def rm_sep(st):\n",
    "    for c in str_sep:\n",
    "        if c in st:\n",
    "            st = ' '.join(st.split(c))\n",
    "    return st\n",
    "\n",
    "df_documents_3['document_content'] = df_documents_3['document_content'].apply(lambda x: rm_sep(x))\n",
    "df_documents_3['claim_content'] = df_documents_3['claim_content'].apply(lambda x: rm_sep(x))"
   ]
  },
  {
   "cell_type": "code",
   "execution_count": 13,
   "metadata": {},
   "outputs": [],
   "source": [
    "## We tokenize the contents of our documents and claims\n",
    "\n",
    "df_documents_3['document_content'] = df_documents_3['document_content'].apply(lambda x: nltk.word_tokenize(x))\n",
    "df_documents_3['claim_content'] = df_documents_3['claim_content'].apply(lambda x: nltk.word_tokenize(x))"
   ]
  },
  {
   "cell_type": "code",
   "execution_count": 14,
   "metadata": {},
   "outputs": [],
   "source": [
    "## We apply pos-tagging on our documents and claims\n",
    "\n",
    "df_documents_3['document_content'] = df_documents_3['document_content'].apply(lambda x: nltk.pos_tag(x))\n",
    "df_documents_3['claim_content'] = df_documents_3['claim_content'].apply(lambda x: nltk.pos_tag(x))"
   ]
  },
  {
   "cell_type": "code",
   "execution_count": 15,
   "metadata": {},
   "outputs": [],
   "source": [
    "## Here is a list of all the pos-tags\n",
    "worthless_pos_tags = [',', 'PRP$', 'WRB', 'RP', 'TO','(','SYM','WDT', '``', 'WP$', ')', 'EX',\n",
    "                     'LS', ':', 'WP', 'MD', 'CD', '$', 'IN', '#', \"''\", 'FW', 'POS', 'DT',\n",
    "                     '.', 'PDT', 'CC', 'UH', 'PRP']\n",
    "## We remove pos-tags that we consider irrelevant\n",
    "df_documents_3['document_content'] = df_documents_3['document_content']\\\n",
    ".apply(lambda tb: list(filter(lambda x: x[1] not in worthless_pos_tags,tb)))\n",
    "\n",
    "df_documents_3['document_content'] = df_documents_3['document_content'].apply(lambda tb: [x[0] for x in tb])\n",
    "\n",
    "df_documents_3['claim_content'] = df_documents_3['claim_content']\\\n",
    ".apply(lambda tb: list(filter(lambda x: x[1] not in worthless_pos_tags,tb)))\n",
    "\n",
    "df_documents_3['claim_content'] = df_documents_3['claim_content'].apply(lambda tb: [x[0] for x in tb])"
   ]
  },
  {
   "cell_type": "code",
   "execution_count": 16,
   "metadata": {},
   "outputs": [],
   "source": [
    "## We keep only words that match a pattern of interest\n",
    "\n",
    "pattern_interest = re.compile(\"^[a-z']+$\")\n",
    "df_documents_3['document_content'] = df_documents_3['document_content']\\\n",
    ".apply(lambda tb: list(filter(lambda x: pattern_interest.match(x), tb)))\n",
    "df_documents_3['claim_content'] = df_documents_3['claim_content']\\\n",
    ".apply(lambda tb: list(filter(lambda x: pattern_interest.match(x), tb)))"
   ]
  },
  {
   "cell_type": "code",
   "execution_count": 17,
   "metadata": {},
   "outputs": [
    {
     "name": "stderr",
     "output_type": "stream",
     "text": [
      "/home/ymerej/anaconda3/lib/python3.6/site-packages/gensim/models/phrases.py:494: UserWarning: For a faster implementation, use the gensim.models.phrases.Phraser class\n",
      "  warnings.warn(\"For a faster implementation, use the gensim.models.phrases.Phraser class\")\n"
     ]
    }
   ],
   "source": [
    "## We identify phrases (couple of words appearing frequently together)\n",
    "\n",
    "bigrams = Phrases(list(df_documents_3['snippet_content'].as_matrix()))\n",
    "\n",
    "df_documents_3['document_content'] = df_documents_3['document_content'].apply(lambda tb: bigrams[tb])\n",
    "df_documents_3['claim_content'] = df_documents_3['claim_content'].apply(lambda tb: bigrams[tb])"
   ]
  },
  {
   "cell_type": "code",
   "execution_count": 18,
   "metadata": {},
   "outputs": [],
   "source": [
    "## We remove stopwords\n",
    "\n",
    "stopWords = set(stopwords.words('english'))\n",
    "\n",
    "df_documents_3['document_content'] = df_documents_3['document_content']\\\n",
    ".apply(lambda tb: list(filter(lambda x: x not in stopWords, tb)))\n",
    "\n",
    "df_documents_3['claim_content'] = df_documents_3['claim_content']\\\n",
    ".apply(lambda tb: list(filter(lambda x: x not in stopWords, tb)))"
   ]
  },
  {
   "cell_type": "code",
   "execution_count": 19,
   "metadata": {},
   "outputs": [
    {
     "name": "stdout",
     "output_type": "stream",
     "text": [
      "376.0\n",
      "1347.0\n",
      "2259.0\n",
      "5261.5\n",
      "140517.0\n"
     ]
    },
    {
     "data": {
      "text/plain": [
       "<matplotlib.axes._subplots.AxesSubplot at 0x7f36e439acc0>"
      ]
     },
     "execution_count": 19,
     "metadata": {},
     "output_type": "execute_result"
    },
    {
     "data": {
      "image/png": "[encoded data removed]",
      "text/plain": [
       "<matplotlib.figure.Figure at 0x7f36ea327be0>"
      ]
     },
     "metadata": {},
     "output_type": "display_data"
    }
   ],
   "source": [
    "## How many words per documennt ?\n",
    "\n",
    "df_documents_count = df_documents_3[['claim_id','claim_label','document_content']].copy()\n",
    "\n",
    "df_documents_count['document_content'] = df_documents_count['document_content'].apply(lambda x: len(x))\n",
    "\n",
    "df_document_count = df_documents_count.groupby(['claim_id','claim_label']).sum().reset_index()\n",
    "\n",
    "df_document_count[['document_content']].boxplot()"
   ]
  },
  {
   "cell_type": "code",
   "execution_count": 20,
   "metadata": {},
   "outputs": [
    {
     "data": {
      "text/plain": [
       "<matplotlib.axes._subplots.AxesSubplot at 0x7f36fc1f0358>"
      ]
     },
     "execution_count": 20,
     "metadata": {},
     "output_type": "execute_result"
    },
    {
     "data": {
      "image/png": "[encoded data removed]",
      "text/plain": [
       "<matplotlib.figure.Figure at 0x7f36ea2d8a58>"
      ]
     },
     "metadata": {},
     "output_type": "display_data"
    }
   ],
   "source": [
    "## How many words per document accross true and false claims\n",
    "\n",
    "fig, axs = plt.subplots(1,2, sharey = True)\n",
    "df_document_count[df_document_count['claim_label']==True][['document_content']].boxplot(ax=axs[0])\n",
    "df_document_count[df_document_count['claim_label']==False][['document_content']].boxplot(ax=axs[1])"
   ]
  },
  {
   "cell_type": "code",
   "execution_count": 21,
   "metadata": {},
   "outputs": [
    {
     "name": "stdout",
     "output_type": "stream",
     "text": [
      "604\n",
      "302\n"
     ]
    }
   ],
   "source": [
    "## We concatenate each pair of document per associated claim\n",
    "## we apply the mean on the associated similarity measures\n",
    "\n",
    "df_doc_content = df_documents_3[['claim_id','document_content']].groupby('claim_id').sum().reset_index()\n",
    "df_doc_similarity = df_documents_3[['claim_id','similarity_score']].groupby('claim_id').mean().reset_index()\n",
    "df_documents_4 = pd.merge(pd.merge(df_doc_content,df_doc_similarity),\n",
    "                          df_documents_3[['claim_id','claim_label','claim_content']].groupby('claim_id')\\\n",
    "                          .first().reset_index())"
   ]
  },
  {
   "cell_type": "code",
   "execution_count": 22,
   "metadata": {},
   "outputs": [],
   "source": [
    "## We export the data\n",
    "\n",
    "df_documents_4.to_csv('data/09_bow_documents.csv')"
   ]
  },
  {
   "cell_type": "code",
   "execution_count": 22,
   "metadata": {},
   "outputs": [
    {
     "name": "stdout",
     "output_type": "stream",
     "text": [
      "80494\n",
      "1190\n"
     ]
    }
   ],
   "source": [
    "## We index words in lexicons\n",
    "\n",
    "dictionary_documents = corpora.Dictionary(list(df_documents_4['document_content'].as_matrix()))\n",
    "dictionary_claims = corpora.Dictionary(list(df_documents_4['claim_content'].as_matrix()))"
   ]
  },
  {
   "cell_type": "code",
   "execution_count": 24,
   "metadata": {},
   "outputs": [
    {
     "name": "stdout",
     "output_type": "stream",
     "text": [
      "19500\n",
      "19000\n",
      "18500\n",
      "18000\n",
      "17500\n",
      "17000\n",
      "16500\n",
      "16000\n",
      "15500\n",
      "15000\n",
      "14500\n",
      "14000\n",
      "13500\n",
      "13000\n",
      "12500\n",
      "12000\n",
      "11500\n",
      "11000\n",
      "10500\n",
      "10000\n",
      "9500\n",
      "9000\n",
      "8500\n",
      "8000\n",
      "7500\n",
      "7000\n",
      "6500\n",
      "6000\n",
      "5500\n",
      "5000\n",
      "4500\n",
      "4000\n",
      "3500\n",
      "3000\n",
      "2500\n",
      "2000\n",
      "1500\n",
      "1000\n",
      "500\n",
      "180\n",
      "170\n",
      "160\n",
      "150\n",
      "140\n",
      "130\n",
      "120\n",
      "110\n",
      "100\n",
      "90\n",
      "80\n",
      "70\n",
      "60\n"
     ]
    }
   ],
   "source": [
    "## We build lexicons of different sizes for claims and documents\n",
    "\n",
    "for nb_word in sorted(list(np.arange(500,20000,500)),reverse=True):\n",
    "    dictionary_documents.filter_extremes(keep_n=nb_word)\n",
    "    dictionary_documents.save('dictionaries/09_doc_'+str(nb_word/1000)+'.dict')\n",
    "    \n",
    "for nb_word in sorted(list(np.arange(60,186,10)),reverse=True):\n",
    "    dictionary_claims.filter_extremes(keep_n=nb_word)\n",
    "    dictionary_claims.save('dictionaries/09_claim_'+str(nb_word/1000)+'.dict')"
   ]
  },
  {
   "cell_type": "code",
   "execution_count": null,
   "metadata": {},
   "outputs": [],
   "source": []
  }
 ],
 "metadata": {
  "kernelspec": {
   "display_name": "Python 3",
   "language": "python",
   "name": "python3"
  },
  "language_info": {
   "codemirror_mode": {
    "name": "ipython",
    "version": 3
   },
   "file_extension": ".py",
   "mimetype": "text/x-python",
   "name": "python",
   "nbconvert_exporter": "python",
   "pygments_lexer": "ipython3",
   "version": "3.6.4"
  }
 },
 "nbformat": 4,
 "nbformat_minor": 2
}
