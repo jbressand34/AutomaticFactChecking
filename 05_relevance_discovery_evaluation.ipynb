{
 "cells": [
  {
   "cell_type": "code",
   "execution_count": 1,
   "metadata": {},
   "outputs": [],
   "source": [
    "import pandas as pd\n",
    "import matplotlib.pyplot as plt\n",
    "from gensim import corpora, models, similarities\n",
    "import numpy as np\n",
    "import ast"
   ]
  },
  {
   "cell_type": "code",
   "execution_count": 6,
   "metadata": {},
   "outputs": [],
   "source": [
    "## We import the similarity measures on groundtruth data\n",
    "\n",
    "df_results = pd.read_csv('data/04_similarity_results.csv')"
   ]
  },
  {
   "cell_type": "code",
   "execution_count": 5,
   "metadata": {},
   "outputs": [],
   "source": [
    "## for each topic model with associated lexicon and number of topics\n",
    "##     - we sort the snippets by decreasing order of associated similarity measures.\n",
    "##     - we count how many snippets are relevant and on the top of the list (i.e their similarity\n",
    "## measures are above all similarity measures of irrelevant snippets)\n",
    "##     - We look at the difference between the minimum similarity measure of the relevant snippets\n",
    "## in the top list and the maximum similarity measure of all irrelevant snippets\n",
    "\n",
    "models = {'lsi':[],'rp':[], 'lda':[]}\n",
    "thresholds = {'lsi':[],'rp':[], 'lda':[]}\n",
    "nb_topics = np.arange(100,350,50)\n",
    "for model in models:\n",
    "    for nb_word in sorted(list(np.arange(10000,40000,5000)),reverse=True):\n",
    "        for nb_topic in nb_topics:\n",
    "            df_ = df_results[['groundtruth_label',model+str(nb_word/1000)+'_'+str(nb_topic)]]\\\n",
    "            .sort_values(by=[model+str(nb_word/1000)+'_'+str(nb_topic)],ascending=False)\n",
    "            labels_ = list(df_['groundtruth_label'].as_matrix())\n",
    "            sims_ = list(df_[model+str(nb_word/1000)+'_'+str(nb_topic)].as_matrix())\n",
    "            count = 0\n",
    "            threshold_up = 1\n",
    "            threshold_down = 1\n",
    "            first = True\n",
    "            for i in range(0,len(labels_)):\n",
    "                if labels_[i]==True:\n",
    "                    count+=1\n",
    "                    threshold_up = sims_[i]\n",
    "                    first = False\n",
    "                else:\n",
    "                    if not first:\n",
    "                        threshold_down = sims_[i]\n",
    "                    break\n",
    "            models[model].append(count)\n",
    "            thresholds[model].append(threshold_up)\n",
    "            thresholds[model].append(threshold_down)\n",
    "tuples_models = []\n",
    "tuples_thresholds = []\n",
    "for nb_word in sorted(list(np.arange(10000,40000,5000)),reverse=True):\n",
    "        for nb_topic in nb_topics:\n",
    "            tuples_models.append((nb_word,nb_topic))\n",
    "            tuples_thresholds.append((nb_word,nb_topic,'up'))\n",
    "           tuples_thresholds.append((nb_word,nb_topic,'down'))\n",
    "        \n",
    "index_models = pd.MultiIndex.from_tuples(tuples_models, names=['nb_word', 'nb_topic'])\n",
    "index_thresholds = pd.MultiIndex.from_tuples(tuples_thresholds, names=['nb_word','limit'])\n",
    "\n",
    "df_count_topics = pd.DataFrame(models, index=index_models).unstack()\n",
    "df_thresholds_topics = pd.DataFrame(thresholds, index=index_thresholds).unstack()\n",
    "df_thresholds_topics_2 = pd.DataFrame({'lsi': (df_thresholds_topics['lsi']['up'] - df_thresholds_topics['lsi']['down']).apply(lambda x: int(100*x)/100),\n",
    "                                'lda': (df_thresholds_topics['lda']['up'] - df_thresholds_topics['lda']['down']).apply(lambda x: int(100*x)/100), \n",
    "                                'rp': (df_thresholds_topics['rp']['up'] - df_thresholds_topics['rp']['down']).apply(lambda x: int(100*x)/100)},\n",
    "                              index = df_thresholds.index).unstack()\n",
    "\n",
    "print(df_counts_topic)\n",
    "print(df_thresholds_topics_2)"
   ]
  },
  {
   "cell_type": "code",
   "execution_count": null,
   "metadata": {},
   "outputs": [],
   "source": [
    "## for each base model (bow and tfidf) with associated lexicon\n",
    "##     - we sort the snippets by decreasing order of associated similarity measures.\n",
    "##     - we count how many snippets are relevant and on the top of the list (i.e their similarity\n",
    "## measures are above all similarity measures of irrelevant snippets)\n",
    "##     - We look at the difference between the minimum similarity measure of the relevant snippets\n",
    "## in the top list and the maximum similarity measure of all irrelevant snippets\n",
    "\n",
    "models = {'bow':[],'tfidf':[]}\n",
    "thresholds = {'bow':[],'tfidf':[]}\n",
    "for model in models:\n",
    "    for nb_word in sorted(list(np.arange(10000,40000,5000)),reverse=True):\n",
    "        df_ = df_results[['groundtruth_label',model+str(nb_word/1000)]]\\\n",
    "        .sort_values(by=[model+str(nb_word/1000)],ascending=False)\n",
    "        labels_ = list(df_['groundtruth_label'].as_matrix())\n",
    "        sims_ = list(df_[model+str(nb_word/1000)].as_matrix())\n",
    "        count = 0\n",
    "        threshold_up = 1\n",
    "        threshold_down = 1\n",
    "        first = True\n",
    "        for i in range(0,len(labels_)):\n",
    "            if labels_[i]==True:\n",
    "                count+=1\n",
    "                threshold_up = sims_[i]\n",
    "                first = False\n",
    "            else:\n",
    "                if not first:\n",
    "                    threshold_down = sims_[i]\n",
    "                break\n",
    "        models[model].append(count)\n",
    "        thresholds[model].append(threshold_up)\n",
    "        thresholds[model].append(threshold_down)\n",
    "        \n",
    "tuples_models = []\n",
    "tuples_thresholds = []\n",
    "for nb_word in sorted(list(np.arange(10000,40000,5000)),reverse=True):\n",
    "        tuples_models.append(nb_word)\n",
    "        tuples_thresholds.append((nb_word,'up'))\n",
    "        tuples_thresholds.append((nb_word,'down'))\n",
    "index_thresholds = pd.MultiIndex.from_tuples(tuples_thresholds, names=['nb_word','limit'])\n",
    "\n",
    "df_counts_base = pd.DataFrame(models, index=tuples_models).unstack()\n",
    "df_thresholds_base = pd.DataFrame(thresholds, index=index_thresholds).unstack()\n",
    "df_thresholds_base_2 = pd.DataFrame({'bow': (df_thresholds_base['bow']['up'] - df_thresholds_base['bow']['down']).apply(lambda x: int(100*x)/100),\n",
    "                                'tfidf': (df_thresholds_base['tfidf']['up'] - df_thresholds_base['tfidf']['down']).apply(lambda x: int(100*x)/100)},\n",
    "                              index = df_thresholds.index).unstack()\n",
    "print(df_counts_base)\n",
    "print(df_thresholds_base_2)"
   ]
  },
  {
   "cell_type": "code",
   "execution_count": 35,
   "metadata": {},
   "outputs": [
    {
     "name": "stdout",
     "output_type": "stream",
     "text": [
      "0.6477783620357513\n"
     ]
    },
    {
     "data": {
      "image/png": "[encoded data removed]",
      "text/plain": [
       "<matplotlib.figure.Figure at 0x7fc097853550>"
      ]
     },
     "metadata": {},
     "output_type": "display_data"
    }
   ],
   "source": [
    "## We choose the lda topic model with the 30k lexicon and 200 topics\n",
    "## Here the boxplots of similarity measures accross relevant and irrelevant snippets\n",
    "\n",
    "fig, axs = plt.subplots(1,2, sharey = True)\n",
    "ax = df_results[df_results['groundtruth_label']==True][['lda30.0_200']].boxplot(ax=axs[0])\n",
    "ax.set_xticklabels(['Relevant snippets'])\n",
    "ax.set_ylabel('Similarity score')\n",
    "print(df_results[df_results['groundtruth_label']==True]['lda30.0_200'].quantile(0.95))\n",
    "ax = df_results[df_results['groundtruth_label']==False][['lda30.0_200']].boxplot(ax=axs[1])\n",
    "ax.set_xticklabels(['Irrelevant snippets'])\n",
    "\n",
    "plt.savefig('05_similarity_scores_snippets.png')"
   ]
  }
 ],
 "metadata": {
  "kernelspec": {
   "display_name": "Python 3",
   "language": "python",
   "name": "python3"
  },
  "language_info": {
   "codemirror_mode": {
    "name": "ipython",
    "version": 3
   },
   "file_extension": ".py",
   "mimetype": "text/x-python",
   "name": "python",
   "nbconvert_exporter": "python",
   "pygments_lexer": "ipython3",
   "version": "3.6.4"
  }
 },
 "nbformat": 4,
 "nbformat_minor": 2
}
