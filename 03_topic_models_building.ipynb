{
 "cells": [
  {
   "cell_type": "code",
   "execution_count": 1,
   "metadata": {},
   "outputs": [],
   "source": [
    "import pandas as pd\n",
    "import matplotlib.pyplot as plt\n",
    "from gensim import corpora\n",
    "from gensim import models\n",
    "import numpy as np\n",
    "import ast"
   ]
  },
  {
   "cell_type": "code",
   "execution_count": 2,
   "metadata": {},
   "outputs": [],
   "source": [
    "df_snippets = pd.read_csv('data/02_bow_snippets_claims.csv')"
   ]
  },
  {
   "cell_type": "code",
   "execution_count": 3,
   "metadata": {},
   "outputs": [],
   "source": [
    "## We evaluate strings as list of words\n",
    "\n",
    "df_snippets['snippet_content'] = df_snippets['snippet_content'].apply(lambda st: ast.literal_eval(st))"
   ]
  },
  {
   "cell_type": "code",
   "execution_count": 4,
   "metadata": {},
   "outputs": [],
   "source": [
    "## For each dictionary\n",
    "## - We transform list of words from snippets into bow indices\n",
    "## - We construct a tf-idf model\n",
    "\n",
    "for nb_word in sorted(list(np.arange(10000,40000,5000)),reverse=True):\n",
    "    dictionary = corpora.Dictionary.load('dictionaries/02_'+str(nb_word/1000)+'.dict')\n",
    "    df_snippets['snippet_bow_'+str(nb_word/1000)] = df_snippets['snippet_content'].apply(lambda x: dictionary.doc2bow(x))\n",
    "    tfidf = models.TfidfModel(list(df_snippets['snippet_bow_'+str(nb_word/1000)].as_matrix()))\n",
    "    df_snippets['snippet_tfidf_'+str(nb_word/1000)] = df_snippets['snippet_bow_'+str(nb_word/1000)].apply(lambda x: tfidf[x])\n",
    "    tfidf.save('topic_models/03_'+str(nb_word/1000)+'.tfidf')"
   ]
  },
  {
   "cell_type": "code",
   "execution_count": 5,
   "metadata": {},
   "outputs": [
    {
     "name": "stderr",
     "output_type": "stream",
     "text": [
      "/home/ymerej/anaconda3/lib/python3.6/site-packages/gensim/models/ldamodel.py:775: RuntimeWarning: divide by zero encountered in log\n",
      "  diff = np.log(self.expElogbeta)\n"
     ]
    }
   ],
   "source": [
    "## For each dictionary\n",
    "##    For each chosen topic model number (from 100 to 300 with a step of 50)\n",
    "##        We build lsi, rp and lda models\n",
    "\n",
    "for nb_word in sorted(list(np.arange(10000,40000,5000)),reverse=True):\n",
    "    dictionary = corpora.Dictionary.load('dictionaries/factchecking_'+str(nb_word/1000)+'.dict')\n",
    "    for nb_topic in np.arange(100,350,50):\n",
    "        lsi = models.LsiModel(list(df_snippets['snippet_tfidf_'+str(nb_word/1000)].as_matrix()), \n",
    "                              id2word=dictionary, num_topics=nb_topic)\n",
    "        lsi.save('topic_models/03_'+str(nb_word/1000)+'_'+str(nb_topic)+'.lsi')\n",
    "        rp = models.RpModel(list(df_snippets['snippet_bow_'+str(nb_word/1000)].as_matrix()), \n",
    "                            num_topics=nb_topic)\n",
    "        rp.save('topic_models/03_'+str(nb_word/1000)+'_'+str(nb_topic)+'.rp')\n",
    "        lda = models.LdaModel(list(df_snippets['snippet_bow_'+str(nb_word/1000)].as_matrix()), \n",
    "                              id2word=dictionary, num_topics=nb_topic)\n",
    "        lda.save('topic_models/03_'+str(nb_word/1000)+'_'+str(nb_topic)+'.lda')"
   ]
  },
  {
   "cell_type": "code",
   "execution_count": null,
   "metadata": {},
   "outputs": [],
   "source": []
  }
 ],
 "metadata": {
  "kernelspec": {
   "display_name": "Python 3",
   "language": "python",
   "name": "python3"
  },
  "language_info": {
   "codemirror_mode": {
    "name": "ipython",
    "version": 3
   },
   "file_extension": ".py",
   "mimetype": "text/x-python",
   "name": "python",
   "nbconvert_exporter": "python",
   "pygments_lexer": "ipython3",
   "version": "3.6.4"
  }
 },
 "nbformat": 4,
 "nbformat_minor": 2
}
