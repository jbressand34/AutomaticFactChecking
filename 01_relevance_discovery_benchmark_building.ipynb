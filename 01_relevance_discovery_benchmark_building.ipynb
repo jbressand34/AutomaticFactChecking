{
 "cells": [
  {
   "cell_type": "code",
   "execution_count": 1,
   "metadata": {},
   "outputs": [],
   "source": [
    "import pandas as pd\n",
    "import matplotlib.pyplot as plt\n",
    "import numpy as np"
   ]
  },
  {
   "cell_type": "code",
   "execution_count": 3,
   "metadata": {},
   "outputs": [],
   "source": [
    "df_snippets = pd.read_csv('data/00_dataset.csv')"
   ]
  },
  {
   "cell_type": "code",
   "execution_count": 4,
   "metadata": {},
   "outputs": [
    {
     "data": {
      "text/plain": [
       "Index(['claim_id', 'snippet_content', 'snippet_date', 'snippet_id',\n",
       "       'snippet_pagenum', 'snippet_title', 'snippet_url', 'claim_content',\n",
       "       'claim_date', 'claim_label', 'claim_tag', 'claim_url', 'date_number'],\n",
       "      dtype='object')"
      ]
     },
     "execution_count": 4,
     "metadata": {},
     "output_type": "execute_result"
    }
   ],
   "source": [
    "df_snippets.columns"
   ]
  },
  {
   "cell_type": "code",
   "execution_count": 4,
   "metadata": {},
   "outputs": [
    {
     "data": {
      "text/html": [
       "<div>\n",
       "<style scoped>\n",
       "    .dataframe tbody tr th:only-of-type {\n",
       "        vertical-align: middle;\n",
       "    }\n",
       "\n",
       "    .dataframe tbody tr th {\n",
       "        vertical-align: top;\n",
       "    }\n",
       "\n",
       "    .dataframe thead th {\n",
       "        text-align: right;\n",
       "    }\n",
       "</style>\n",
       "<table border=\"1\" class=\"dataframe\">\n",
       "  <thead>\n",
       "    <tr style=\"text-align: right;\">\n",
       "      <th></th>\n",
       "      <th>claim_id</th>\n",
       "      <th>snippet_content</th>\n",
       "      <th>snippet_date</th>\n",
       "      <th>snippet_id</th>\n",
       "      <th>snippet_pagenum</th>\n",
       "      <th>snippet_title</th>\n",
       "      <th>snippet_url</th>\n",
       "      <th>claim_content</th>\n",
       "      <th>claim_date</th>\n",
       "      <th>claim_label</th>\n",
       "      <th>claim_tag</th>\n",
       "      <th>claim_url</th>\n",
       "      <th>date_number</th>\n",
       "    </tr>\n",
       "  </thead>\n",
       "  <tbody>\n",
       "    <tr>\n",
       "      <th>0</th>\n",
       "      <td>3</td>\n",
       "      <td>News on Japan, Business News, Opinion, Sports,...</td>\n",
       "      <td>17636</td>\n",
       "      <td>0</td>\n",
       "      <td>0</td>\n",
       "      <td>Article expired | The Japan Times</td>\n",
       "      <td>https://www.japantimes.co.jp/article-expired/</td>\n",
       "      <td>Black and Latino people in NYC are arrested at...</td>\n",
       "      <td>17646</td>\n",
       "      <td>True</td>\n",
       "      <td>— PolitiFact New York</td>\n",
       "      <td>/new-york/statements/2018/apr/25/kirsten-gilli...</td>\n",
       "      <td>0</td>\n",
       "    </tr>\n",
       "    <tr>\n",
       "      <th>1</th>\n",
       "      <td>3</td>\n",
       "      <td>Get the latest breaking news across the U.S. o...</td>\n",
       "      <td>17636</td>\n",
       "      <td>1</td>\n",
       "      <td>0</td>\n",
       "      <td>U.S. News | Latest National News, Videos …</td>\n",
       "      <td>https://abcnews.go.com/US/</td>\n",
       "      <td>Black and Latino people in NYC are arrested at...</td>\n",
       "      <td>17646</td>\n",
       "      <td>True</td>\n",
       "      <td>— PolitiFact New York</td>\n",
       "      <td>/new-york/statements/2018/apr/25/kirsten-gilli...</td>\n",
       "      <td>0</td>\n",
       "    </tr>\n",
       "  </tbody>\n",
       "</table>\n",
       "</div>"
      ],
      "text/plain": [
       "   claim_id                                    snippet_content  snippet_date  \\\n",
       "0         3  News on Japan, Business News, Opinion, Sports,...         17636   \n",
       "1         3  Get the latest breaking news across the U.S. o...         17636   \n",
       "\n",
       "   snippet_id  snippet_pagenum                               snippet_title  \\\n",
       "0           0                0           Article expired | The Japan Times   \n",
       "1           1                0  U.S. News | Latest National News, Videos …   \n",
       "\n",
       "                                     snippet_url  \\\n",
       "0  https://www.japantimes.co.jp/article-expired/   \n",
       "1                     https://abcnews.go.com/US/   \n",
       "\n",
       "                                       claim_content  claim_date  claim_label  \\\n",
       "0  Black and Latino people in NYC are arrested at...       17646         True   \n",
       "1  Black and Latino people in NYC are arrested at...       17646         True   \n",
       "\n",
       "                claim_tag                                          claim_url  \\\n",
       "0  — PolitiFact New York   /new-york/statements/2018/apr/25/kirsten-gilli...   \n",
       "1  — PolitiFact New York   /new-york/statements/2018/apr/25/kirsten-gilli...   \n",
       "\n",
       "   date_number  \n",
       "0            0  \n",
       "1            0  "
      ]
     },
     "execution_count": 4,
     "metadata": {},
     "output_type": "execute_result"
    }
   ],
   "source": [
    "df_snippets.head(2)"
   ]
  },
  {
   "cell_type": "code",
   "execution_count": 6,
   "metadata": {},
   "outputs": [],
   "source": [
    "## For each claim and each date of publication, we count the associated number of snippets\n",
    "df_snippets_grouped = df_snippets[['claim_id','snippet_id','snippet_date']]\\\n",
    "    .groupby(['claim_id','snippet_date']).count().reset_index()\n",
    "    \n",
    "## We lool at the 10 couples of (claim, date of publication with the maximum number\n",
    "## of associated snippets\n",
    "df_snippets_sorted = df_snippets_grouped.sort_values(by=['snippet_id'], ascending=False)\n",
    "df_snippets_head = df_snippets_sorted.head(10)\n",
    "\n",
    "## We retrieve the information about the snippets associated to the\n",
    "## top 10 couples of (claim, date of publication)\n",
    "df_snippets_merge = pd.merge(df_snippets_head[['claim_id','snippet_date']], \n",
    "    df_snippets[['claim_id','snippet_date','snippet_id','claim_content','snippet_content']])"
   ]
  },
  {
   "cell_type": "code",
   "execution_count": 92,
   "metadata": {},
   "outputs": [],
   "source": [
    "## We write the contents of the selected snippets and claims in a temporary file\n",
    "df_snippets_merge[['snippet_id','snippet_content','claim_content']].to_csv('data/01_temp.csv', index=False)\n",
    "\n",
    "## Here we modify the file by hand :\n",
    "## - We add a new column : groundtruth_label\n",
    "## - For each couple of claim/snippet, we decide if the snippet is \n",
    "## relevant or not (we assign the groundtruth value as true or false)"
   ]
  },
  {
   "cell_type": "code",
   "execution_count": 93,
   "metadata": {},
   "outputs": [],
   "source": [
    "## We get the data from the manualy modified file\n",
    "df_recup = pd.read_csv('data/01_temp.csv')"
   ]
  },
  {
   "cell_type": "code",
   "execution_count": 108,
   "metadata": {},
   "outputs": [],
   "source": [
    "## We add the groundtruth_label values to the df_snippets_merge data set\n",
    "df_groundtruth_merge = pd.merge(df_recup[['snippet_id','groundtruth_label']], df_snippets_merge)"
   ]
  },
  {
   "cell_type": "code",
   "execution_count": 111,
   "metadata": {},
   "outputs": [],
   "source": [
    "## We export this ground truth data set in a csv file\n",
    "df_groundtruth_merge.to_csv('data/01_relevance_discovery_groundtruth.csv', index=False)"
   ]
  },
  {
   "cell_type": "code",
   "execution_count": 9,
   "metadata": {},
   "outputs": [
    {
     "data": {
      "text/plain": [
       "Irrelevant    443\n",
       "Relevant       91\n",
       "Name: groundtruth_label, dtype: int64"
      ]
     },
     "execution_count": 9,
     "metadata": {},
     "output_type": "execute_result"
    }
   ],
   "source": [
    "## Here we see how many snippets in the ground truth data set\n",
    "## are considered as relevant or not\n",
    "df_count = df_groundtruth_merge['groundtruth_label'].value_counts()\n",
    "df_count.index = ['Irrelevant', 'Relevant']\n",
    "df_count"
   ]
  }
 ],
 "metadata": {
  "kernelspec": {
   "display_name": "Python 3",
   "language": "python",
   "name": "python3"
  },
  "language_info": {
   "codemirror_mode": {
    "name": "ipython",
    "version": 3
   },
   "file_extension": ".py",
   "mimetype": "text/x-python",
   "name": "python",
   "nbconvert_exporter": "python",
   "pygments_lexer": "ipython3",
   "version": "3.6.4"
  }
 },
 "nbformat": 4,
 "nbformat_minor": 2
}
