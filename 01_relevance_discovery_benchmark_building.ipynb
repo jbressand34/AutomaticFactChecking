{
 "cells": [
  {
   "cell_type": "code",
   "execution_count": 1,
   "metadata": {},
   "outputs": [],
   "source": [
    "import pandas as pd\n",
    "import matplotlib.pyplot as plt\n",
    "import numpy as np"
   ]
  },
  {
   "cell_type": "code",
   "execution_count": 2,
   "metadata": {},
   "outputs": [],
   "source": [
    "df_snippets = pd.read_csv('datasets/00_snippets.csv')"
   ]
  },
  {
   "cell_type": "code",
   "execution_count": 3,
   "metadata": {},
   "outputs": [
    {
     "data": {
      "text/plain": [
       "Index(['claim_id', 'snippet_content', 'snippet_date', 'snippet_id',\n",
       "       'snippet_pagenum', 'snippet_title', 'snippet_url', 'claim_content',\n",
       "       'claim_date', 'claim_label', 'claim_tag', 'claim_url', 'date_number'],\n",
       "      dtype='object')"
      ]
     },
     "execution_count": 3,
     "metadata": {},
     "output_type": "execute_result"
    }
   ],
   "source": [
    "df_snippets.columns"
   ]
  },
  {
   "cell_type": "code",
   "execution_count": 4,
   "metadata": {},
   "outputs": [
    {
     "data": {
      "text/html": [
       "<div>\n",
       "<style scoped>\n",
       "    .dataframe tbody tr th:only-of-type {\n",
       "        vertical-align: middle;\n",
       "    }\n",
       "\n",
       "    .dataframe tbody tr th {\n",
       "        vertical-align: top;\n",
       "    }\n",
       "\n",
       "    .dataframe thead th {\n",
       "        text-align: right;\n",
       "    }\n",
       "</style>\n",
       "<table border=\"1\" class=\"dataframe\">\n",
       "  <thead>\n",
       "    <tr style=\"text-align: right;\">\n",
       "      <th></th>\n",
       "      <th>claim_id</th>\n",
       "      <th>snippet_content</th>\n",
       "      <th>snippet_date</th>\n",
       "      <th>snippet_id</th>\n",
       "      <th>snippet_pagenum</th>\n",
       "      <th>snippet_title</th>\n",
       "      <th>snippet_url</th>\n",
       "      <th>claim_content</th>\n",
       "      <th>claim_date</th>\n",
       "      <th>claim_label</th>\n",
       "      <th>claim_tag</th>\n",
       "      <th>claim_url</th>\n",
       "      <th>date_number</th>\n",
       "    </tr>\n",
       "  </thead>\n",
       "  <tbody>\n",
       "    <tr>\n",
       "      <th>0</th>\n",
       "      <td>3</td>\n",
       "      <td>News on Japan, Business News, Opinion, Sports,...</td>\n",
       "      <td>17636</td>\n",
       "      <td>0</td>\n",
       "      <td>0</td>\n",
       "      <td>Article expired | The Japan Times</td>\n",
       "      <td>https://www.japantimes.co.jp/article-expired/</td>\n",
       "      <td>Black and Latino people in NYC are arrested at...</td>\n",
       "      <td>17646</td>\n",
       "      <td>True</td>\n",
       "      <td>— PolitiFact New York</td>\n",
       "      <td>/new-york/statements/2018/apr/25/kirsten-gilli...</td>\n",
       "      <td>0</td>\n",
       "    </tr>\n",
       "    <tr>\n",
       "      <th>1</th>\n",
       "      <td>3</td>\n",
       "      <td>Get the latest breaking news across the U.S. o...</td>\n",
       "      <td>17636</td>\n",
       "      <td>1</td>\n",
       "      <td>0</td>\n",
       "      <td>U.S. News | Latest National News, Videos …</td>\n",
       "      <td>https://abcnews.go.com/US/</td>\n",
       "      <td>Black and Latino people in NYC are arrested at...</td>\n",
       "      <td>17646</td>\n",
       "      <td>True</td>\n",
       "      <td>— PolitiFact New York</td>\n",
       "      <td>/new-york/statements/2018/apr/25/kirsten-gilli...</td>\n",
       "      <td>0</td>\n",
       "    </tr>\n",
       "  </tbody>\n",
       "</table>\n",
       "</div>"
      ],
      "text/plain": [
       "   claim_id                                    snippet_content  snippet_date  \\\n",
       "0         3  News on Japan, Business News, Opinion, Sports,...         17636   \n",
       "1         3  Get the latest breaking news across the U.S. o...         17636   \n",
       "\n",
       "   snippet_id  snippet_pagenum                               snippet_title  \\\n",
       "0           0                0           Article expired | The Japan Times   \n",
       "1           1                0  U.S. News | Latest National News, Videos …   \n",
       "\n",
       "                                     snippet_url  \\\n",
       "0  https://www.japantimes.co.jp/article-expired/   \n",
       "1                     https://abcnews.go.com/US/   \n",
       "\n",
       "                                       claim_content  claim_date  claim_label  \\\n",
       "0  Black and Latino people in NYC are arrested at...       17646         True   \n",
       "1  Black and Latino people in NYC are arrested at...       17646         True   \n",
       "\n",
       "                claim_tag                                          claim_url  \\\n",
       "0  — PolitiFact New York   /new-york/statements/2018/apr/25/kirsten-gilli...   \n",
       "1  — PolitiFact New York   /new-york/statements/2018/apr/25/kirsten-gilli...   \n",
       "\n",
       "   date_number  \n",
       "0            0  \n",
       "1            0  "
      ]
     },
     "execution_count": 4,
     "metadata": {},
     "output_type": "execute_result"
    }
   ],
   "source": [
    "df_snippets.head(2)"
   ]
  },
  {
   "cell_type": "code",
   "execution_count": 5,
   "metadata": {},
   "outputs": [
    {
     "data": {
      "text/html": [
       "<div>\n",
       "<style scoped>\n",
       "    .dataframe tbody tr th:only-of-type {\n",
       "        vertical-align: middle;\n",
       "    }\n",
       "\n",
       "    .dataframe tbody tr th {\n",
       "        vertical-align: top;\n",
       "    }\n",
       "\n",
       "    .dataframe thead th {\n",
       "        text-align: right;\n",
       "    }\n",
       "</style>\n",
       "<table border=\"1\" class=\"dataframe\">\n",
       "  <thead>\n",
       "    <tr style=\"text-align: right;\">\n",
       "      <th></th>\n",
       "      <th>claim_id</th>\n",
       "      <th>snippet_date</th>\n",
       "      <th>snippet_id</th>\n",
       "    </tr>\n",
       "  </thead>\n",
       "  <tbody>\n",
       "    <tr>\n",
       "      <th>0</th>\n",
       "      <td>3</td>\n",
       "      <td>17636</td>\n",
       "      <td>18</td>\n",
       "    </tr>\n",
       "    <tr>\n",
       "      <th>1</th>\n",
       "      <td>3</td>\n",
       "      <td>17637</td>\n",
       "      <td>18</td>\n",
       "    </tr>\n",
       "    <tr>\n",
       "      <th>2</th>\n",
       "      <td>3</td>\n",
       "      <td>17638</td>\n",
       "      <td>39</td>\n",
       "    </tr>\n",
       "    <tr>\n",
       "      <th>3</th>\n",
       "      <td>3</td>\n",
       "      <td>17639</td>\n",
       "      <td>12</td>\n",
       "    </tr>\n",
       "    <tr>\n",
       "      <th>4</th>\n",
       "      <td>3</td>\n",
       "      <td>17640</td>\n",
       "      <td>59</td>\n",
       "    </tr>\n",
       "  </tbody>\n",
       "</table>\n",
       "</div>"
      ],
      "text/plain": [
       "   claim_id  snippet_date  snippet_id\n",
       "0         3         17636          18\n",
       "1         3         17637          18\n",
       "2         3         17638          39\n",
       "3         3         17639          12\n",
       "4         3         17640          59"
      ]
     },
     "execution_count": 5,
     "metadata": {},
     "output_type": "execute_result"
    }
   ],
   "source": [
    "df_snippets_grouped = df_snippets[['claim_id','snippet_id','snippet_date']].groupby(['claim_id','snippet_date']).count().reset_index()\n",
    "df_snippets_grouped.head()"
   ]
  },
  {
   "cell_type": "code",
   "execution_count": 6,
   "metadata": {},
   "outputs": [
    {
     "data": {
      "text/html": [
       "<div>\n",
       "<style scoped>\n",
       "    .dataframe tbody tr th:only-of-type {\n",
       "        vertical-align: middle;\n",
       "    }\n",
       "\n",
       "    .dataframe tbody tr th {\n",
       "        vertical-align: top;\n",
       "    }\n",
       "\n",
       "    .dataframe thead th {\n",
       "        text-align: right;\n",
       "    }\n",
       "</style>\n",
       "<table border=\"1\" class=\"dataframe\">\n",
       "  <thead>\n",
       "    <tr style=\"text-align: right;\">\n",
       "      <th></th>\n",
       "      <th>claim_id</th>\n",
       "      <th>snippet_date</th>\n",
       "      <th>snippet_id</th>\n",
       "    </tr>\n",
       "  </thead>\n",
       "  <tbody>\n",
       "    <tr>\n",
       "      <th>8623</th>\n",
       "      <td>3293</td>\n",
       "      <td>16839</td>\n",
       "      <td>100</td>\n",
       "    </tr>\n",
       "    <tr>\n",
       "      <th>9535</th>\n",
       "      <td>3590</td>\n",
       "      <td>16744</td>\n",
       "      <td>100</td>\n",
       "    </tr>\n",
       "    <tr>\n",
       "      <th>1029</th>\n",
       "      <td>371</td>\n",
       "      <td>17545</td>\n",
       "      <td>100</td>\n",
       "    </tr>\n",
       "    <tr>\n",
       "      <th>17006</th>\n",
       "      <td>6188</td>\n",
       "      <td>16096</td>\n",
       "      <td>100</td>\n",
       "    </tr>\n",
       "    <tr>\n",
       "      <th>17004</th>\n",
       "      <td>6188</td>\n",
       "      <td>16094</td>\n",
       "      <td>100</td>\n",
       "    </tr>\n",
       "    <tr>\n",
       "      <th>18704</th>\n",
       "      <td>6752</td>\n",
       "      <td>15957</td>\n",
       "      <td>100</td>\n",
       "    </tr>\n",
       "    <tr>\n",
       "      <th>11928</th>\n",
       "      <td>4399</td>\n",
       "      <td>16532</td>\n",
       "      <td>100</td>\n",
       "    </tr>\n",
       "    <tr>\n",
       "      <th>29432</th>\n",
       "      <td>10186</td>\n",
       "      <td>15253</td>\n",
       "      <td>100</td>\n",
       "    </tr>\n",
       "    <tr>\n",
       "      <th>43332</th>\n",
       "      <td>14215</td>\n",
       "      <td>13929</td>\n",
       "      <td>100</td>\n",
       "    </tr>\n",
       "    <tr>\n",
       "      <th>29431</th>\n",
       "      <td>10186</td>\n",
       "      <td>15252</td>\n",
       "      <td>100</td>\n",
       "    </tr>\n",
       "  </tbody>\n",
       "</table>\n",
       "</div>"
      ],
      "text/plain": [
       "       claim_id  snippet_date  snippet_id\n",
       "8623       3293         16839         100\n",
       "9535       3590         16744         100\n",
       "1029        371         17545         100\n",
       "17006      6188         16096         100\n",
       "17004      6188         16094         100\n",
       "18704      6752         15957         100\n",
       "11928      4399         16532         100\n",
       "29432     10186         15253         100\n",
       "43332     14215         13929         100\n",
       "29431     10186         15252         100"
      ]
     },
     "execution_count": 6,
     "metadata": {},
     "output_type": "execute_result"
    }
   ],
   "source": [
    "df_snippets_sorted = df_snippets_grouped.sort_values(by=['snippet_id'], ascending=False)\n",
    "df_snippets_head = df_snippets_sorted.head(10)\n",
    "df_snippets_head"
   ]
  },
  {
   "cell_type": "code",
   "execution_count": 7,
   "metadata": {},
   "outputs": [
    {
     "data": {
      "text/html": [
       "<div>\n",
       "<style scoped>\n",
       "    .dataframe tbody tr th:only-of-type {\n",
       "        vertical-align: middle;\n",
       "    }\n",
       "\n",
       "    .dataframe tbody tr th {\n",
       "        vertical-align: top;\n",
       "    }\n",
       "\n",
       "    .dataframe thead th {\n",
       "        text-align: right;\n",
       "    }\n",
       "</style>\n",
       "<table border=\"1\" class=\"dataframe\">\n",
       "  <thead>\n",
       "    <tr style=\"text-align: right;\">\n",
       "      <th></th>\n",
       "      <th>claim_id</th>\n",
       "      <th>snippet_date</th>\n",
       "      <th>snippet_id</th>\n",
       "    </tr>\n",
       "  </thead>\n",
       "  <tbody>\n",
       "    <tr>\n",
       "      <th>0</th>\n",
       "      <td>371</td>\n",
       "      <td>17545</td>\n",
       "      <td>100</td>\n",
       "    </tr>\n",
       "    <tr>\n",
       "      <th>1</th>\n",
       "      <td>3293</td>\n",
       "      <td>16839</td>\n",
       "      <td>100</td>\n",
       "    </tr>\n",
       "    <tr>\n",
       "      <th>2</th>\n",
       "      <td>3590</td>\n",
       "      <td>16744</td>\n",
       "      <td>100</td>\n",
       "    </tr>\n",
       "    <tr>\n",
       "      <th>3</th>\n",
       "      <td>4399</td>\n",
       "      <td>16532</td>\n",
       "      <td>100</td>\n",
       "    </tr>\n",
       "    <tr>\n",
       "      <th>4</th>\n",
       "      <td>6188</td>\n",
       "      <td>16094</td>\n",
       "      <td>100</td>\n",
       "    </tr>\n",
       "    <tr>\n",
       "      <th>5</th>\n",
       "      <td>6188</td>\n",
       "      <td>16096</td>\n",
       "      <td>100</td>\n",
       "    </tr>\n",
       "    <tr>\n",
       "      <th>6</th>\n",
       "      <td>6752</td>\n",
       "      <td>15957</td>\n",
       "      <td>100</td>\n",
       "    </tr>\n",
       "    <tr>\n",
       "      <th>7</th>\n",
       "      <td>10186</td>\n",
       "      <td>15252</td>\n",
       "      <td>100</td>\n",
       "    </tr>\n",
       "    <tr>\n",
       "      <th>8</th>\n",
       "      <td>10186</td>\n",
       "      <td>15253</td>\n",
       "      <td>100</td>\n",
       "    </tr>\n",
       "    <tr>\n",
       "      <th>9</th>\n",
       "      <td>14215</td>\n",
       "      <td>13929</td>\n",
       "      <td>100</td>\n",
       "    </tr>\n",
       "  </tbody>\n",
       "</table>\n",
       "</div>"
      ],
      "text/plain": [
       "   claim_id  snippet_date  snippet_id\n",
       "0       371         17545         100\n",
       "1      3293         16839         100\n",
       "2      3590         16744         100\n",
       "3      4399         16532         100\n",
       "4      6188         16094         100\n",
       "5      6188         16096         100\n",
       "6      6752         15957         100\n",
       "7     10186         15252         100\n",
       "8     10186         15253         100\n",
       "9     14215         13929         100"
      ]
     },
     "execution_count": 7,
     "metadata": {},
     "output_type": "execute_result"
    }
   ],
   "source": [
    "df_snippets_merge = pd.merge(df_snippets_head[['claim_id','snippet_date']], \n",
    "                             df_snippets[['claim_id','snippet_date','snippet_id','claim_content','snippet_content']])\n",
    "df_snippets_merge[['claim_id','snippet_date','snippet_id']].groupby(['claim_id','snippet_date']).count().reset_index().sort_values(by=['snippet_id'], ascending=False)"
   ]
  },
  {
   "cell_type": "code",
   "execution_count": 8,
   "metadata": {},
   "outputs": [
    {
     "data": {
      "text/plain": [
       "1000"
      ]
     },
     "execution_count": 8,
     "metadata": {},
     "output_type": "execute_result"
    }
   ],
   "source": [
    "len(df_snippets_merge)"
   ]
  },
  {
   "cell_type": "code",
   "execution_count": 9,
   "metadata": {},
   "outputs": [
    {
     "data": {
      "text/html": [
       "<div>\n",
       "<style scoped>\n",
       "    .dataframe tbody tr th:only-of-type {\n",
       "        vertical-align: middle;\n",
       "    }\n",
       "\n",
       "    .dataframe tbody tr th {\n",
       "        vertical-align: top;\n",
       "    }\n",
       "\n",
       "    .dataframe thead th {\n",
       "        text-align: right;\n",
       "    }\n",
       "</style>\n",
       "<table border=\"1\" class=\"dataframe\">\n",
       "  <thead>\n",
       "    <tr style=\"text-align: right;\">\n",
       "      <th></th>\n",
       "      <th>claim_id</th>\n",
       "      <th>snippet_date</th>\n",
       "      <th>snippet_id</th>\n",
       "      <th>claim_content</th>\n",
       "      <th>snippet_content</th>\n",
       "    </tr>\n",
       "  </thead>\n",
       "  <tbody>\n",
       "    <tr>\n",
       "      <th>0</th>\n",
       "      <td>3293</td>\n",
       "      <td>16839</td>\n",
       "      <td>673435</td>\n",
       "      <td>Not one Republican has the guts to recognize t...</td>\n",
       "      <td>I was going to make the same argument that Joe...</td>\n",
       "    </tr>\n",
       "    <tr>\n",
       "      <th>1</th>\n",
       "      <td>3293</td>\n",
       "      <td>16839</td>\n",
       "      <td>673436</td>\n",
       "      <td>Not one Republican has the guts to recognize t...</td>\n",
       "      <td>As you can see, I don't think any one problem ...</td>\n",
       "    </tr>\n",
       "  </tbody>\n",
       "</table>\n",
       "</div>"
      ],
      "text/plain": [
       "   claim_id  snippet_date  snippet_id  \\\n",
       "0      3293         16839      673435   \n",
       "1      3293         16839      673436   \n",
       "\n",
       "                                       claim_content  \\\n",
       "0  Not one Republican has the guts to recognize t...   \n",
       "1  Not one Republican has the guts to recognize t...   \n",
       "\n",
       "                                     snippet_content  \n",
       "0  I was going to make the same argument that Joe...  \n",
       "1  As you can see, I don't think any one problem ...  "
      ]
     },
     "execution_count": 9,
     "metadata": {},
     "output_type": "execute_result"
    }
   ],
   "source": [
    "df_snippets_merge.head(2)"
   ]
  },
  {
   "cell_type": "code",
   "execution_count": 10,
   "metadata": {},
   "outputs": [],
   "source": [
    "dic_groundtruth = {}"
   ]
  },
  {
   "cell_type": "code",
   "execution_count": 22,
   "metadata": {},
   "outputs": [
    {
     "data": {
      "text/plain": [
       "array([ 4229,   292, 13683, 11160,   187, 14203,   121,  1085,  4338,\n",
       "        5779])"
      ]
     },
     "execution_count": 22,
     "metadata": {},
     "output_type": "execute_result"
    }
   ],
   "source": [
    "df_snippets_merge['claim_id'].unique()"
   ]
  },
  {
   "cell_type": "code",
   "execution_count": 90,
   "metadata": {},
   "outputs": [
    {
     "data": {
      "text/plain": [
       "array(['Health care premiums up 90 percent in New Hampshire.'],\n",
       "      dtype=object)"
      ]
     },
     "execution_count": 90,
     "metadata": {},
     "output_type": "execute_result"
    }
   ],
   "source": [
    "df_ = df_snippets_merge[df_snippets_merge['claim_id']==5779]\n",
    "df_['claim_content'].unique()"
   ]
  },
  {
   "cell_type": "code",
   "execution_count": 91,
   "metadata": {},
   "outputs": [
    {
     "data": {
      "text/plain": [
       "486    1213098\n",
       "487    1213099\n",
       "488    1213100\n",
       "489    1213101\n",
       "490    1213102\n",
       "Name: snippet_id, dtype: int64"
      ]
     },
     "execution_count": 91,
     "metadata": {},
     "output_type": "execute_result"
    }
   ],
   "source": [
    "df_['snippet_id'].head()"
   ]
  },
  {
   "cell_type": "code",
   "execution_count": 92,
   "metadata": {},
   "outputs": [],
   "source": [
    "df_[['snippet_id','snippet_content']].to_csv('df_gt.csv')"
   ]
  },
  {
   "cell_type": "code",
   "execution_count": 93,
   "metadata": {},
   "outputs": [],
   "source": [
    "df_recup = pd.read_csv('df_gt.csv')"
   ]
  },
  {
   "cell_type": "code",
   "execution_count": 94,
   "metadata": {},
   "outputs": [],
   "source": [
    "dic_groundtruth[5779] = df_recup[['snippet_id','groundtruth_label']].as_matrix()"
   ]
  },
  {
   "cell_type": "code",
   "execution_count": 95,
   "metadata": {},
   "outputs": [
    {
     "data": {
      "text/plain": [
       "dict_keys([4229, 292, 13683, 11160, 187, 14203, 121, 1085, 4338, 5779])"
      ]
     },
     "execution_count": 95,
     "metadata": {},
     "output_type": "execute_result"
    }
   ],
   "source": [
    "dic_groundtruth.keys()"
   ]
  },
  {
   "cell_type": "code",
   "execution_count": 107,
   "metadata": {},
   "outputs": [],
   "source": [
    "df_groundtruth = pd.DataFrame([list(x) for k in dic_groundtruth for x in list(dic_groundtruth[k])], columns=['snippet_id','groundtruth_label'])"
   ]
  },
  {
   "cell_type": "code",
   "execution_count": 108,
   "metadata": {},
   "outputs": [],
   "source": [
    "df_groundtruth_merge = pd.merge(df_groundtruth, df_snippets_merge)"
   ]
  },
  {
   "cell_type": "code",
   "execution_count": 109,
   "metadata": {},
   "outputs": [
    {
     "data": {
      "text/plain": [
       "534"
      ]
     },
     "execution_count": 109,
     "metadata": {},
     "output_type": "execute_result"
    }
   ],
   "source": [
    "len(df_groundtruth_merge)"
   ]
  },
  {
   "cell_type": "code",
   "execution_count": 110,
   "metadata": {},
   "outputs": [
    {
     "data": {
      "text/plain": [
       "Index(['snippet_id', 'groundtruth_label', 'claim_id', 'snippet_date',\n",
       "       'claim_content', 'snippet_content'],\n",
       "      dtype='object')"
      ]
     },
     "execution_count": 110,
     "metadata": {},
     "output_type": "execute_result"
    }
   ],
   "source": [
    "df_groundtruth_merge.columns"
   ]
  },
  {
   "cell_type": "code",
   "execution_count": 111,
   "metadata": {},
   "outputs": [],
   "source": [
    "df_groundtruth_merge.to_csv('datasets/relevance_discovery_groundtruth.csv')"
   ]
  },
  {
   "cell_type": "code",
   "execution_count": 2,
   "metadata": {},
   "outputs": [],
   "source": [
    "df_groundtruth_merge = pd.read_csv('datasets/relevance_discovery_groundtruth.csv')"
   ]
  },
  {
   "cell_type": "code",
   "execution_count": 3,
   "metadata": {},
   "outputs": [
    {
     "data": {
      "text/html": [
       "<div>\n",
       "<style scoped>\n",
       "    .dataframe tbody tr th:only-of-type {\n",
       "        vertical-align: middle;\n",
       "    }\n",
       "\n",
       "    .dataframe tbody tr th {\n",
       "        vertical-align: top;\n",
       "    }\n",
       "\n",
       "    .dataframe thead th {\n",
       "        text-align: right;\n",
       "    }\n",
       "</style>\n",
       "<table border=\"1\" class=\"dataframe\">\n",
       "  <thead>\n",
       "    <tr style=\"text-align: right;\">\n",
       "      <th></th>\n",
       "      <th>Unnamed: 0</th>\n",
       "      <th>snippet_id</th>\n",
       "      <th>groundtruth_label</th>\n",
       "      <th>claim_id</th>\n",
       "      <th>snippet_date</th>\n",
       "      <th>claim_content</th>\n",
       "      <th>snippet_content</th>\n",
       "    </tr>\n",
       "  </thead>\n",
       "  <tbody>\n",
       "    <tr>\n",
       "      <th>0</th>\n",
       "      <td>0</td>\n",
       "      <td>887759</td>\n",
       "      <td>True</td>\n",
       "      <td>4229</td>\n",
       "      <td>16577</td>\n",
       "      <td>We spend more money on lobbying than we do on ...</td>\n",
       "      <td>22/05/2015 · Will London's mayor put the brake...</td>\n",
       "    </tr>\n",
       "    <tr>\n",
       "      <th>1</th>\n",
       "      <td>1</td>\n",
       "      <td>887760</td>\n",
       "      <td>False</td>\n",
       "      <td>4229</td>\n",
       "      <td>16577</td>\n",
       "      <td>We spend more money on lobbying than we do on ...</td>\n",
       "      <td>22/05/2015 · ... Facebook for First Draft upda...</td>\n",
       "    </tr>\n",
       "  </tbody>\n",
       "</table>\n",
       "</div>"
      ],
      "text/plain": [
       "   Unnamed: 0  snippet_id  groundtruth_label  claim_id  snippet_date  \\\n",
       "0           0      887759               True      4229         16577   \n",
       "1           1      887760              False      4229         16577   \n",
       "\n",
       "                                       claim_content  \\\n",
       "0  We spend more money on lobbying than we do on ...   \n",
       "1  We spend more money on lobbying than we do on ...   \n",
       "\n",
       "                                     snippet_content  \n",
       "0  22/05/2015 · Will London's mayor put the brake...  \n",
       "1  22/05/2015 · ... Facebook for First Draft upda...  "
      ]
     },
     "execution_count": 3,
     "metadata": {},
     "output_type": "execute_result"
    }
   ],
   "source": [
    "df_groundtruth_merge.head(2)"
   ]
  },
  {
   "cell_type": "code",
   "execution_count": 9,
   "metadata": {},
   "outputs": [
    {
     "data": {
      "text/plain": [
       "Irrelevant    443\n",
       "Relevant       91\n",
       "Name: groundtruth_label, dtype: int64"
      ]
     },
     "execution_count": 9,
     "metadata": {},
     "output_type": "execute_result"
    }
   ],
   "source": [
    "df_count = df_groundtruth_merge['groundtruth_label'].value_counts()\n",
    "df_count.index = ['Irrelevant', 'Relevant']\n",
    "df_count"
   ]
  },
  {
   "cell_type": "code",
   "execution_count": 11,
   "metadata": {},
   "outputs": [
    {
     "data": {
      "image/png": "[encoded data removed]",
      "text/plain": [
       "<matplotlib.figure.Figure at 0x7ff9eb43b5f8>"
      ]
     },
     "metadata": {},
     "output_type": "display_data"
    }
   ],
   "source": [
    "ax = df_count.plot(kind='bar')\n",
    "\n",
    "ax.set_ylabel('# of snippets')\n",
    "\n",
    "ax.set_xlabel('Ground truth labels')\n",
    "\n",
    "plt.tight_layout()\n",
    "\n",
    "for p in ax.patches:\n",
    "    ax.annotate(str(int(p.get_height())), (p.get_x() +0.1, p.get_height() +0.02))\n",
    "    \n",
    "plt.savefig('01_relevant_irrelevant_snippets.png')"
   ]
  },
  {
   "cell_type": "code",
   "execution_count": null,
   "metadata": {},
   "outputs": [],
   "source": []
  }
 ],
 "metadata": {
  "kernelspec": {
   "display_name": "Python 3",
   "language": "python",
   "name": "python3"
  },
  "language_info": {
   "codemirror_mode": {
    "name": "ipython",
    "version": 3
   },
   "file_extension": ".py",
   "mimetype": "text/x-python",
   "name": "python",
   "nbconvert_exporter": "python",
   "pygments_lexer": "ipython3",
   "version": "3.6.4"
  }
 },
 "nbformat": 4,
 "nbformat_minor": 2
}
