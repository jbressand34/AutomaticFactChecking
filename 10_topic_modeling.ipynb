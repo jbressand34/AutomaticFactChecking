{
 "cells": [
  {
   "cell_type": "code",
   "execution_count": 1,
   "metadata": {},
   "outputs": [],
   "source": [
    "import pandas as pd\n",
    "import matplotlib.pyplot as plt\n",
    "from gensim import corpora\n",
    "from gensim import models\n",
    "import numpy as np\n",
    "import ast"
   ]
  },
  {
   "cell_type": "code",
   "execution_count": 2,
   "metadata": {},
   "outputs": [
    {
     "data": {
      "text/plain": [
       "Index(['Unnamed: 0', 'claim_id', 'document_content', 'similarity_score',\n",
       "       'claim_label', 'claim_content'],\n",
       "      dtype='object')"
      ]
     },
     "execution_count": 2,
     "metadata": {},
     "output_type": "execute_result"
    }
   ],
   "source": [
    "## We import data\n",
    "\n",
    "df_doc = pd.read_csv('data/09_bow_documents.csv')"
   ]
  },
  {
   "cell_type": "code",
   "execution_count": 3,
   "metadata": {},
   "outputs": [],
   "source": [
    "## We evaluate strings as lists of terms\n",
    "\n",
    "df_doc['document_content'] = df_doc['document_content'].apply(lambda st: ast.literal_eval(st))\n",
    "df_doc['claim_content'] = df_doc['claim_content'].apply(lambda st: ast.literal_eval(st))"
   ]
  },
  {
   "cell_type": "code",
   "execution_count": 4,
   "metadata": {},
   "outputs": [],
   "source": [
    "## for each lexicon, we transform lists of terms into lists of indexes\n",
    "## we build tfidf models that we export\n",
    "\n",
    "for nb_word in sorted(list(np.arange(500,20000,500)),reverse=True):\n",
    "    dictionary_doc = corpora.Dictionary.load('dictionaries/09_doc_'+str(nb_word/1000)+'.dict')\n",
    "    df_doc['document_bow_'+str(nb_word/1000)] = df_doc['document_content'].apply(lambda x: dictionary_doc.doc2bow(x))\n",
    "    #df_doc['claim_bow_'+str(nb_word/1000)] = df_doc['claim_content'].apply(lambda x: dictionary.doc2bow(x))\n",
    "    tfidf = models.TfidfModel(list(df_doc['document_bow_'+str(nb_word/1000)].as_matrix()))\n",
    "    df_doc['document_tfidf_'+str(nb_word/1000)] = df_doc['document_bow_'+str(nb_word/1000)].apply(lambda x: tfidf[x])\n",
    "    #df_doc['claim_tfidf_'+str(nb_word/1000)] = df_doc['claim_bow_'+str(nb_word/1000)].apply(lambda x: tfidf[x])\n",
    "    tfidf.save('topic_models/10_doc_'+str(nb_word/1000)+'.tfidf')\n",
    "    \n",
    "for nb_word in sorted(list(np.arange(60,186,10)),reverse=True):\n",
    "    dictionary_claim = corpora.Dictionary.load('dictionaries/09_claim_'+str(nb_word/1000)+'.dict')\n",
    "    df_doc['claim_bow_'+str(nb_word/1000)] = df_doc['claim_content'].apply(lambda x: dictionary_claim.doc2bow(x))\n",
    "    #df_doc['claim_bow_'+str(nb_word/1000)] = df_doc['claim_content'].apply(lambda x: dictionary.doc2bow(x))\n",
    "    tfidf = models.TfidfModel(list(df_doc['claim_bow_'+str(nb_word/1000)].as_matrix()))\n",
    "    df_doc['claim_tfidf_'+str(nb_word/1000)] = df_doc['claim_bow_'+str(nb_word/1000)].apply(lambda x: tfidf[x])\n",
    "    #df_doc['claim_tfidf_'+str(nb_word/1000)] = df_doc['claim_bow_'+str(nb_word/1000)].apply(lambda x: tfidf[x])\n",
    "    tfidf.save('topic_models/10_claim_'+str(nb_word/1000)+'.tfidf')"
   ]
  },
  {
   "cell_type": "code",
   "execution_count": 5,
   "metadata": {},
   "outputs": [],
   "source": [
    "## for each lexicon, for each number of topics,\n",
    "## for each topic modeling technique, we build models\n",
    "## and export these models\n",
    "\n",
    "for nb_word in sorted(list(np.arange(500,20000,500)),reverse=True):\n",
    "    dictionary = corpora.Dictionary.load('dictionaries/09_doc_'+str(nb_word/1000)+'.dict')\n",
    "    for nb_topic in np.arange(20,310,20):\n",
    "        lsi = models.LsiModel(list(df_doc['document_tfidf_'+str(nb_word/1000)].as_matrix()), \n",
    "                              id2word=dictionary, num_topics=nb_topic)\n",
    "        lsi.save('topic_models/10_doc_'+str(nb_word/1000)+'_'+str(nb_topic)+'.lsi')\n",
    "        rp = models.RpModel(list(df_doc['document_bow_'+str(nb_word/1000)].as_matrix()), \n",
    "                            num_topics=nb_topic)\n",
    "        rp.save('topic_models/10_doc_'+str(nb_word/1000)+'_'+str(nb_topic)+'.rp')\n",
    "        lda = models.LdaModel(list(df_doc['document_bow_'+str(nb_word/1000)].as_matrix()), \n",
    "                              id2word=dictionary, num_topics=nb_topic)\n",
    "        lda.save('topic_models/10_doc_'+str(nb_word/1000)+'_'+str(nb_topic)+'.lda')\n",
    "        \n",
    "for nb_word in sorted(list(np.arange(60,186,10)),reverse=True):\n",
    "    dictionary = corpora.Dictionary.load('dictionaries/09_claim_'+str(nb_word/1000)+'.dict')\n",
    "    for nb_topic in np.arange(10,60,10):\n",
    "        lsi = models.LsiModel(list(df_doc['claim_tfidf_'+str(nb_word/1000)].as_matrix()), \n",
    "                              id2word=dictionary, num_topics=nb_topic)\n",
    "        lsi.save('topic_models/10_claim_'+str(nb_word/1000)+'_'+str(nb_topic)+'.lsi')\n",
    "        rp = models.RpModel(list(df_doc['claim_bow_'+str(nb_word/1000)].as_matrix()), \n",
    "                            num_topics=nb_topic)\n",
    "        rp.save('topic_models/10_claim_'+str(nb_word/1000)+'_'+str(nb_topic)+'.rp')\n",
    "        lda = models.LdaModel(list(df_doc['claim_bow_'+str(nb_word/1000)].as_matrix()), \n",
    "                              id2word=dictionary, num_topics=nb_topic)\n",
    "        lda.save('topic_models/10_claim_'+str(nb_word/1000)+'_'+str(nb_topic)+'.lda')"
   ]
  },
  {
   "cell_type": "code",
   "execution_count": 7,
   "metadata": {},
   "outputs": [],
   "source": [
    "##We export the data\n",
    "\n",
    "df_doc.to_csv('data/10_tfidf.csv')"
   ]
  },
  {
   "cell_type": "code",
   "execution_count": null,
   "metadata": {},
   "outputs": [],
   "source": []
  }
 ],
 "metadata": {
  "kernelspec": {
   "display_name": "Python 3",
   "language": "python",
   "name": "python3"
  },
  "language_info": {
   "codemirror_mode": {
    "name": "ipython",
    "version": 3
   },
   "file_extension": ".py",
   "mimetype": "text/x-python",
   "name": "python",
   "nbconvert_exporter": "python",
   "pygments_lexer": "ipython3",
   "version": "3.6.4"
  }
 },
 "nbformat": 4,
 "nbformat_minor": 2
}
