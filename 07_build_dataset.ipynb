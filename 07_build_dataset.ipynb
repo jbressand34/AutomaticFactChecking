{
 "cells": [
  {
   "cell_type": "code",
   "execution_count": 31,
   "metadata": {},
   "outputs": [],
   "source": [
    "import pandas as pd\n",
    "import matplotlib.pyplot as plt\n",
    "from gensim import corpora\n",
    "import numpy as np\n",
    "import ast\n",
    "import os\n",
    "from bs4 import BeautifulSoup\n",
    "import re\n",
    "import urllib.parse"
   ]
  },
  {
   "cell_type": "code",
   "execution_count": 4,
   "metadata": {},
   "outputs": [],
   "source": [
    "## We list all documents that we retrieved using http requests\n",
    "\n",
    "documents = os.listdir('relevant_documents')"
   ]
  },
  {
   "cell_type": "code",
   "execution_count": 5,
   "metadata": {},
   "outputs": [],
   "source": [
    "## How to extract texts from html documents\n",
    "\n",
    "def visible(element):\n",
    "    if element.parent.name in ['style', 'script', '[document]', 'head', 'title']:\n",
    "        return False\n",
    "    elif re.match('<!--.*-->', str(element.encode('utf-8'))):\n",
    "        return False\n",
    "    return True\n",
    "\n",
    "def html_to_text(txt):\n",
    "    soup = BeautifulSoup(txt,'html.parser')\n",
    "    data = soup.findAll(text=True)\n",
    "    res = list(filter(visible, data))\n",
    "    return ' '.join(res)\n",
    "\n",
    "#https://www.quora.com/How-can-I-extract-only-text-data-from-HTML-pages"
   ]
  },
  {
   "cell_type": "code",
   "execution_count": 7,
   "metadata": {},
   "outputs": [
    {
     "data": {
      "text/html": [
       "<div>\n",
       "<style scoped>\n",
       "    .dataframe tbody tr th:only-of-type {\n",
       "        vertical-align: middle;\n",
       "    }\n",
       "\n",
       "    .dataframe tbody tr th {\n",
       "        vertical-align: top;\n",
       "    }\n",
       "\n",
       "    .dataframe thead th {\n",
       "        text-align: right;\n",
       "    }\n",
       "</style>\n",
       "<table border=\"1\" class=\"dataframe\">\n",
       "  <thead>\n",
       "    <tr style=\"text-align: right;\">\n",
       "      <th></th>\n",
       "      <th>document_content</th>\n",
       "      <th>snippet_id</th>\n",
       "    </tr>\n",
       "  </thead>\n",
       "  <tbody>\n",
       "    <tr>\n",
       "      <th>0</th>\n",
       "      <td>\\n  __ _ _ _ __| |_ (_)__ _____\\n    / _` | '_...</td>\n",
       "      <td>2620350</td>\n",
       "    </tr>\n",
       "    <tr>\n",
       "      <th>1</th>\n",
       "      <td>\\n  __ _ _ _ __| |_ (_)__ _____\\n    / _` | '_...</td>\n",
       "      <td>1357119</td>\n",
       "    </tr>\n",
       "  </tbody>\n",
       "</table>\n",
       "</div>"
      ],
      "text/plain": [
       "                                    document_content  snippet_id\n",
       "0  \\n  __ _ _ _ __| |_ (_)__ _____\\n    / _` | '_...     2620350\n",
       "1  \\n  __ _ _ _ __| |_ (_)__ _____\\n    / _` | '_...     1357119"
      ]
     },
     "execution_count": 7,
     "metadata": {},
     "output_type": "execute_result"
    }
   ],
   "source": [
    "## We extract texts from web documents and export them in a csv file\n",
    "\n",
    "dic_documents = {'snippet_id':[], 'document_content':[]}\n",
    "\n",
    "for file_name in documents:\n",
    "    snippet_id = int(file_name.split('.')[0])\n",
    "    file = open('relevant_documents/'+file_name)\n",
    "    txt = html_to_text(file.read())\n",
    "    file.close()\n",
    "    dic_documents['snippet_id'].append(snippet_id)\n",
    "    dic_documents['document_content'].append(txt)\n",
    "    \n",
    "df_documents = pd.DataFrame(dic_documents)\n",
    "\n",
    "df_documents.to_csv('data/07_documents.csv', index=False)"
   ]
  }
 ],
 "metadata": {
  "kernelspec": {
   "display_name": "Python 3",
   "language": "python",
   "name": "python3"
  },
  "language_info": {
   "codemirror_mode": {
    "name": "ipython",
    "version": 3
   },
   "file_extension": ".py",
   "mimetype": "text/x-python",
   "name": "python",
   "nbconvert_exporter": "python",
   "pygments_lexer": "ipython3",
   "version": "3.6.4"
  }
 },
 "nbformat": 4,
 "nbformat_minor": 2
}
